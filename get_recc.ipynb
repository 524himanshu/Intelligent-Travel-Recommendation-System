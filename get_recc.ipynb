{
 "cells": [
  {
   "cell_type": "code",
   "execution_count": 1,
   "metadata": {},
   "outputs": [],
   "source": [
    "import pandas as pd\n",
    "import ipywidgets as w\n",
    "from IPython.display import display, IFrame\n",
    "from __future__ import print_function\n",
    "import re\n",
    "from utils import Util\n",
    "from rbm import RBM\n",
    "import math"
   ]
  },
  {
   "cell_type": "code",
   "execution_count": 2,
   "metadata": {},
   "outputs": [],
   "source": [
    "att_df = pd.read_json('etl/attractions.json',orient='records')"
   ]
  },
  {
   "cell_type": "code",
   "execution_count": 3,
   "metadata": {
    "cell_style": "split"
   },
   "outputs": [
    {
     "data": {
      "application/vnd.jupyter.widget-view+json": {
       "model_id": "19b6534f21574e44a75c9961d6293532",
       "version_major": 2,
       "version_minor": 0
      },
      "text/plain": [
       "VBox(children=(Text(value='', description='User Name'), Text(value='', description='Destination'), IntRangeSli…"
      ]
     },
     "metadata": {},
     "output_type": "display_data"
    }
   ],
   "source": [
    "name = w.Text(description=\"User Name\")\n",
    "place = w.Text(description=\"Destination\")\n",
    "budget = w.IntRangeSlider(min=att_df.price.min(), max=att_df.price.max(),step=10,value=[att_df.price.min(),att_df.price.max()],description=\"Budget\")\n",
    "out = w.VBox([name,place,budget])\n",
    "display(out)"
   ]
  },
  {
   "cell_type": "code",
   "execution_count": 4,
   "metadata": {
    "cell_style": "split"
   },
   "outputs": [
    {
     "data": {
      "application/vnd.jupyter.widget-view+json": {
       "model_id": "74e9d62ecf634c53a43374738e985c28",
       "version_major": 2,
       "version_minor": 0
      },
      "text/plain": [
       "DatePicker(value=None, description='Start Date')"
      ]
     },
     "metadata": {},
     "output_type": "display_data"
    },
    {
     "data": {
      "application/vnd.jupyter.widget-view+json": {
       "model_id": "252dc40c1b3d4a88a0bd8fe65b7999e5",
       "version_major": 2,
       "version_minor": 0
      },
      "text/plain": [
       "DatePicker(value=None, description='End Date')"
      ]
     },
     "metadata": {},
     "output_type": "display_data"
    }
   ],
   "source": [
    "start = w.DatePicker(description='Start Date',disabled=False)\n",
    "display(start)\n",
    "end = w.DatePicker(description='End Date',disabled=False)\n",
    "display(end)"
   ]
  },
  {
   "cell_type": "code",
   "execution_count": 7,
   "metadata": {
    "scrolled": false
   },
   "outputs": [
    {
     "name": "stdout",
     "output_type": "stream",
     "text": [
      "Select and rate atleast 5 categories and rate them:\n"
     ]
    },
    {
     "data": {
      "application/vnd.jupyter.widget-view+json": {
       "model_id": "0c3a12d6707546cba93ab5955a80476a",
       "version_major": 2,
       "version_minor": 0
      },
      "text/plain": [
       "HBox(children=(VBox(children=(Button(description='private_&_custom_tours', layout=Layout(height='100px', width…"
      ]
     },
     "metadata": {},
     "output_type": "display_data"
    },
    {
     "name": "stdout",
     "output_type": "stream",
     "text": [
      "water_sports\n"
     ]
    },
    {
     "data": {
      "application/vnd.jupyter.widget-view+json": {
       "model_id": "4726be098a044f34a0546c3e8a85856f",
       "version_major": 2,
       "version_minor": 0
      },
      "text/plain": [
       "IntSlider(value=0, description='Rate', max=5)"
      ]
     },
     "metadata": {},
     "output_type": "display_data"
    },
    {
     "name": "stdout",
     "output_type": "stream",
     "text": [
      "Rate 4 more!\n",
      "\n",
      "tours_&_sightseeing\n"
     ]
    },
    {
     "data": {
      "application/vnd.jupyter.widget-view+json": {
       "model_id": "bb63aa33ad85488987e4f1f8de78948d",
       "version_major": 2,
       "version_minor": 0
      },
      "text/plain": [
       "IntSlider(value=0, description='Rate', max=5)"
      ]
     },
     "metadata": {},
     "output_type": "display_data"
    },
    {
     "name": "stdout",
     "output_type": "stream",
     "text": [
      "Rate 3 more!\n",
      "\n",
      "private_&_custom_tours\n"
     ]
    },
    {
     "data": {
      "application/vnd.jupyter.widget-view+json": {
       "model_id": "43e2f45fbae3481997264dff3fc0ed34",
       "version_major": 2,
       "version_minor": 0
      },
      "text/plain": [
       "IntSlider(value=0, description='Rate', max=5)"
      ]
     },
     "metadata": {},
     "output_type": "display_data"
    },
    {
     "name": "stdout",
     "output_type": "stream",
     "text": [
      "Rate 2 more!\n",
      "\n",
      "walking_&_biking_tours\n"
     ]
    },
    {
     "data": {
      "application/vnd.jupyter.widget-view+json": {
       "model_id": "6b1bff345c534936a0f629277bbef52e",
       "version_major": 2,
       "version_minor": 0
      },
      "text/plain": [
       "IntSlider(value=0, description='Rate', max=5)"
      ]
     },
     "metadata": {},
     "output_type": "display_data"
    },
    {
     "name": "stdout",
     "output_type": "stream",
     "text": [
      "Rate 1 more!\n",
      "\n",
      "family_friendly\n"
     ]
    },
    {
     "data": {
      "application/vnd.jupyter.widget-view+json": {
       "model_id": "43ce3bcbb0ef4321980013b4f2a0d059",
       "version_major": 2,
       "version_minor": 0
      },
      "text/plain": [
       "IntSlider(value=0, description='Rate', max=5)"
      ]
     },
     "metadata": {},
     "output_type": "display_data"
    },
    {
     "name": "stdout",
     "output_type": "stream",
     "text": [
      "food,_wine_&_nightlife\n"
     ]
    },
    {
     "data": {
      "application/vnd.jupyter.widget-view+json": {
       "model_id": "38bd60daed8342b8a19d0bb8f0677b2b",
       "version_major": 2,
       "version_minor": 0
      },
      "text/plain": [
       "IntSlider(value=0, description='Rate', max=5)"
      ]
     },
     "metadata": {},
     "output_type": "display_data"
    },
    {
     "name": "stdout",
     "output_type": "stream",
     "text": [
      "air,_helicopter_&_balloon_tours\n"
     ]
    },
    {
     "data": {
      "application/vnd.jupyter.widget-view+json": {
       "model_id": "51c393e5e44e4cc0875b666845ec84b7",
       "version_major": 2,
       "version_minor": 0
      },
      "text/plain": [
       "IntSlider(value=0, description='Rate', max=5)"
      ]
     },
     "metadata": {},
     "output_type": "display_data"
    }
   ],
   "source": [
    "category_df = att_df.groupby('category').size().reset_index().sort_values([0],ascending=False)[:18]\n",
    "categories = list(category_df.category.values)\n",
    "cat_rat = dict()\n",
    "def on_button_clicked(b):\n",
    "    if b.description in cat_rat:\n",
    "        return\n",
    "    print(b.description)\n",
    "    slider = w.IntSlider(min=0,max=5,step=1,description='Rate')\n",
    "    display(slider)\n",
    "    cat_rat[b.description] = slider\n",
    "    if(len(cat_rat) < 5):\n",
    "        print(\"Rate {x} more!\\n\".format(x=5-len(cat_rat)))\n",
    "    \n",
    "but_layout = w.Layout(width='100%', height='100px')\n",
    "but_items = [w.Button(description=c, layout=but_layout) for c in categories]\n",
    "on_clk = [item.on_click(on_button_clicked) for item in but_items]\n",
    "r1 = w.VBox([i for i in but_items[:6]])\n",
    "r2 = w.VBox([i for i in but_items[6:12]])\n",
    "r3 = w.VBox([i for i in but_items[12:]])\n",
    "buttons = w.HBox([r1,r2,r3])\n",
    "print(\"Select and rate atleast 5 categories and rate them:\")\n",
    "display(buttons)"
   ]
  },
  {
   "cell_type": "code",
   "execution_count": 6,
   "metadata": {
    "hide_input": false
   },
   "outputs": [
    {
     "data": {
      "text/plain": [
       "{'private_&_custom_tours': 5.0,\n",
       " 'walking_&_biking_tours': 4.0,\n",
       " 'recommended_experiences': 1.0,\n",
       " 'water_sports': 3.0,\n",
       " 'food,_wine_&_nightlife': 4.0,\n",
       " 'transfers_&_ground_transport': 2.0}"
      ]
     },
     "execution_count": 6,
     "metadata": {},
     "output_type": "execute_result"
    }
   ],
   "source": [
    "user_name = re.sub(' ','_',name.value.lower())\n",
    "province = re.sub(' ','_',place.value.lower())\n",
    "(low,high) = tuple([float(i) for i in budget.value])\n",
    "begin_date = str(start.value)\n",
    "end_date = str(end.value)\n",
    "cat_rating = dict()\n",
    "for key, value in cat_rat.items():\n",
    "    cat_rating[key] = float(value.value)\n",
    "cat_rating"
   ]
  },
  {
   "cell_type": "code",
   "execution_count": 7,
   "metadata": {},
   "outputs": [],
   "source": [
    "def f(row):\n",
    "    avg_cat_rat = dict()\n",
    "    for i in range(len(row['category'])):\n",
    "        if row['category'][i] not in avg_cat_rat:\n",
    "            avg_cat_rat[row['category'][i]] = [row['rating'][i]]\n",
    "        else:\n",
    "            avg_cat_rat[row['category'][i]].append(row['rating'][i])\n",
    "    for key,value in avg_cat_rat.items():\n",
    "        avg_cat_rat[key] = sum(value)/len(value)\n",
    "    return avg_cat_rat\n",
    "\n",
    "def sim_score(row):\n",
    "    score = 0.0\n",
    "    match = 0\n",
    "    col1 = row['cat_rat']\n",
    "    col2 = row['user_data']\n",
    "    for key, value in col2.items():\n",
    "        if key in col1:\n",
    "            match+=1\n",
    "            score += (value-col1[key])**2\n",
    "    if match != 0:\n",
    "        return ((math.sqrt(score)/match) + (len(col2) - match))\n",
    "    else:\n",
    "        return 100"
   ]
  },
  {
   "cell_type": "code",
   "execution_count": 15,
   "metadata": {},
   "outputs": [],
   "source": [
    "def get_recc(cat_rating):\n",
    "    util = Util()\n",
    "    epochs = 50\n",
    "    rows = 40000\n",
    "    alpha = 0.01\n",
    "    H = 128\n",
    "    batch_size = 16\n",
    "    dir= 'etl/'\n",
    "    ratings, attractions = util.read_data(dir)\n",
    "    rbm_att, train = util.preprocess(ratings)\n",
    "    num_vis =  len(ratings)\n",
    "    rbm = RBM(alpha, H, num_vis)\n",
    "    \n",
    "    joined = ratings.set_index('attraction_id').join(attractions[[\"attraction_id\",\"category\"]].set_index(\"attraction_id\")).reset_index('attraction_id')\n",
    "    grouped = joined.groupby('user_id')\n",
    "    category_df = grouped['category'].apply(list).reset_index()\n",
    "    rating_df = grouped['rating'].apply(list).reset_index()\n",
    "    cat_rat_df = category_df.set_index('user_id').join(rating_df.set_index('user_id'))\n",
    "    cat_rat_df['cat_rat'] = cat_rat_df.apply(f,axis=1)\n",
    "    cat_rat_df = cat_rat_df.reset_index()[['user_id','cat_rat']]\n",
    "    \n",
    "    cat_rat_df['user_data'] = [cat_rating for i in range(len(cat_rat_df))]\n",
    "    cat_rat_df['sim_score'] = cat_rat_df.apply(sim_score, axis=1)\n",
    "    user = cat_rat_df.sort_values(['sim_score']).values[0][0]\n",
    "    \n",
    "    filename = \"e\"+str(epochs)+\"_r\"+str(rows)+\"_lr\"+str(alpha)+\"_hu\"+str(H)+\"_bs\"+str(batch_size)\n",
    "    reco, weights, vb, hb = rbm.load_predict(filename,train,user)\n",
    "    unseen, seen = rbm.calculate_scores(ratings, attractions, reco, user)\n",
    "    rbm.export(unseen, seen, 'recommendations/'+filename, str(user))\n",
    "    return filename, user, rbm_att"
   ]
  },
  {
   "cell_type": "code",
   "execution_count": 16,
   "metadata": {
    "collapsed": true
   },
   "outputs": [
    {
     "name": "stdout",
     "output_type": "stream",
     "text": [
      "Reading the data\n",
      "Preprocessing the dataset\n",
      "Model restored\n"
     ]
    }
   ],
   "source": [
    "filename, user, rbm_att = get_recc(cat_rating)\n",
    "recc_df = pd.read_csv('recommendations/'+filename+'/user{u}_unseen.csv'.format(u=user))"
   ]
  },
  {
   "cell_type": "code",
   "execution_count": 24,
   "metadata": {},
   "outputs": [
    {
     "data": {
      "text/html": [
       "<div>\n",
       "<style scoped>\n",
       "    .dataframe tbody tr th:only-of-type {\n",
       "        vertical-align: middle;\n",
       "    }\n",
       "\n",
       "    .dataframe tbody tr th {\n",
       "        vertical-align: top;\n",
       "    }\n",
       "\n",
       "    .dataframe thead th {\n",
       "        text-align: right;\n",
       "    }\n",
       "</style>\n",
       "<table border=\"1\" class=\"dataframe\">\n",
       "  <thead>\n",
       "    <tr style=\"text-align: right;\">\n",
       "      <th></th>\n",
       "      <th>attraction_id</th>\n",
       "      <th>att_name</th>\n",
       "      <th>att_cat</th>\n",
       "      <th>att_price</th>\n",
       "      <th>score</th>\n",
       "    </tr>\n",
       "  </thead>\n",
       "  <tbody>\n",
       "    <tr>\n",
       "      <th>0</th>\n",
       "      <td>994</td>\n",
       "      <td>full-day_mont-tremblant_rouge_river_rafting_to...</td>\n",
       "      <td>water_sports</td>\n",
       "      <td>98.29</td>\n",
       "      <td>5.000000</td>\n",
       "    </tr>\n",
       "    <tr>\n",
       "      <th>1</th>\n",
       "      <td>1053</td>\n",
       "      <td>medieval_times_dinner_and_tournament_toronto</td>\n",
       "      <td>family_friendly</td>\n",
       "      <td>68.99</td>\n",
       "      <td>3.477647</td>\n",
       "    </tr>\n",
       "    <tr>\n",
       "      <th>2</th>\n",
       "      <td>379</td>\n",
       "      <td>full-day_niagara_ice_wine_festival_tour_with_l...</td>\n",
       "      <td>food,_wine_&amp;_nightlife</td>\n",
       "      <td>395.00</td>\n",
       "      <td>1.598323</td>\n",
       "    </tr>\n",
       "    <tr>\n",
       "      <th>3</th>\n",
       "      <td>831</td>\n",
       "      <td>private_arrival_transfer:_calgary_internationa...</td>\n",
       "      <td>transfers_&amp;_ground_transport</td>\n",
       "      <td>528.26</td>\n",
       "      <td>1.540151</td>\n",
       "    </tr>\n",
       "    <tr>\n",
       "      <th>4</th>\n",
       "      <td>65</td>\n",
       "      <td>3_hour_whale_watching_tour</td>\n",
       "      <td>cruises,_sailing_&amp;_water_tours</td>\n",
       "      <td>129.00</td>\n",
       "      <td>1.491627</td>\n",
       "    </tr>\n",
       "    <tr>\n",
       "      <th>5</th>\n",
       "      <td>1376</td>\n",
       "      <td>ultimate_day_tour_to_victoria</td>\n",
       "      <td>recommended_experiences</td>\n",
       "      <td>363.56</td>\n",
       "      <td>1.383766</td>\n",
       "    </tr>\n",
       "    <tr>\n",
       "      <th>6</th>\n",
       "      <td>862</td>\n",
       "      <td>ultimate_day_tour_to_victoria</td>\n",
       "      <td>walking_&amp;_biking_tours</td>\n",
       "      <td>363.56</td>\n",
       "      <td>1.120624</td>\n",
       "    </tr>\n",
       "    <tr>\n",
       "      <th>7</th>\n",
       "      <td>1181</td>\n",
       "      <td>ultimate_day_tour_to_victoria</td>\n",
       "      <td>luxury_&amp;_special_occasions</td>\n",
       "      <td>363.56</td>\n",
       "      <td>1.084641</td>\n",
       "    </tr>\n",
       "    <tr>\n",
       "      <th>8</th>\n",
       "      <td>759</td>\n",
       "      <td>call_of_the_wild_atv_tour</td>\n",
       "      <td>tours_&amp;_sightseeing</td>\n",
       "      <td>156.45</td>\n",
       "      <td>0.949624</td>\n",
       "    </tr>\n",
       "    <tr>\n",
       "      <th>9</th>\n",
       "      <td>54</td>\n",
       "      <td>ultimate_day_tour_to_victoria</td>\n",
       "      <td>cruises,_sailing_&amp;_water_tours</td>\n",
       "      <td>363.56</td>\n",
       "      <td>0.882140</td>\n",
       "    </tr>\n",
       "    <tr>\n",
       "      <th>10</th>\n",
       "      <td>934</td>\n",
       "      <td>lift_your_spirits!_distillery_and_cocktail_exp...</td>\n",
       "      <td>walking_&amp;_biking_tours</td>\n",
       "      <td>105.00</td>\n",
       "      <td>0.880051</td>\n",
       "    </tr>\n",
       "  </tbody>\n",
       "</table>\n",
       "</div>"
      ],
      "text/plain": [
       "    attraction_id                                           att_name  \\\n",
       "0             994  full-day_mont-tremblant_rouge_river_rafting_to...   \n",
       "1            1053       medieval_times_dinner_and_tournament_toronto   \n",
       "2             379  full-day_niagara_ice_wine_festival_tour_with_l...   \n",
       "3             831  private_arrival_transfer:_calgary_internationa...   \n",
       "4              65                         3_hour_whale_watching_tour   \n",
       "5            1376                      ultimate_day_tour_to_victoria   \n",
       "6             862                      ultimate_day_tour_to_victoria   \n",
       "7            1181                      ultimate_day_tour_to_victoria   \n",
       "8             759                          call_of_the_wild_atv_tour   \n",
       "9              54                      ultimate_day_tour_to_victoria   \n",
       "10            934  lift_your_spirits!_distillery_and_cocktail_exp...   \n",
       "\n",
       "                           att_cat  att_price     score  \n",
       "0                     water_sports      98.29  5.000000  \n",
       "1                  family_friendly      68.99  3.477647  \n",
       "2           food,_wine_&_nightlife     395.00  1.598323  \n",
       "3     transfers_&_ground_transport     528.26  1.540151  \n",
       "4   cruises,_sailing_&_water_tours     129.00  1.491627  \n",
       "5          recommended_experiences     363.56  1.383766  \n",
       "6           walking_&_biking_tours     363.56  1.120624  \n",
       "7       luxury_&_special_occasions     363.56  1.084641  \n",
       "8              tours_&_sightseeing     156.45  0.949624  \n",
       "9   cruises,_sailing_&_water_tours     363.56  0.882140  \n",
       "10          walking_&_biking_tours     105.00  0.880051  "
      ]
     },
     "execution_count": 24,
     "metadata": {},
     "output_type": "execute_result"
    }
   ],
   "source": [
    "recc_df.columns = ['attraction_id', 'att_name', 'att_cat', 'att_price', 'score']\n",
    "recc_df.head(11)"
   ]
  }
 ],
 "metadata": {
  "hide_input": true,
  "kernelspec": {
   "display_name": "Python 3",
   "language": "python",
   "name": "python3"
  },
  "language_info": {
   "codemirror_mode": {
    "name": "ipython",
    "version": 3
   },
   "file_extension": ".py",
   "mimetype": "text/x-python",
   "name": "python",
   "nbconvert_exporter": "python",
   "pygments_lexer": "ipython3",
   "version": "3.7.2"
  }
 },
 "nbformat": 4,
 "nbformat_minor": 2
}
