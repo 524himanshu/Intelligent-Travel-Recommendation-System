{
 "cells": [
  {
   "cell_type": "code",
   "execution_count": 31,
   "metadata": {},
   "outputs": [],
   "source": [
    "import pandas as pd\n",
    "import numpy as np\n",
    "import ipywidgets as w\n",
    "from ipywidgets import HBox, VBox\n",
    "from ipywidgets import Layout, widgets\n",
    "from IPython.display import display, IFrame, HTML\n",
    "from __future__ import print_function\n",
    "from utils import Util\n",
    "from rbm import RBM\n",
    "import math, re, datetime as dt, glob\n",
    "from urllib.parse import quote\n",
    "from urllib.request import Request, urlopen\n",
    "from google_images_download import google_images_download\n",
    "from nltk.corpus import wordnet\n",
    "from PIL import Image"
   ]
  },
  {
   "cell_type": "code",
   "execution_count": 3,
   "metadata": {},
   "outputs": [],
   "source": [
    "att_df = pd.read_json('etl/attractions.json',orient='records')"
   ]
  },
  {
   "cell_type": "code",
   "execution_count": 4,
   "metadata": {
    "cell_style": "split"
   },
   "outputs": [
    {
     "data": {
      "application/vnd.jupyter.widget-view+json": {
       "model_id": "6fb61d2ded5d4bdabb95ed380da63e4d",
       "version_major": 2,
       "version_minor": 0
      },
      "text/plain": [
       "VBox(children=(Text(value='', description='User Name'), Text(value='', description='Destination'), IntRangeSli…"
      ]
     },
     "metadata": {},
     "output_type": "display_data"
    }
   ],
   "source": [
    "name = w.Text(description=\"User Name\")\n",
    "place = w.Text(description=\"Destination\")\n",
    "budget = w.IntRangeSlider(min=att_df.price.min(), max=att_df.price.max(),step=10,value=[att_df.price.min(),att_df.price.max()],description=\"Budget\")\n",
    "out = w.VBox([name,place,budget])\n",
    "display(out)"
   ]
  },
  {
   "cell_type": "code",
   "execution_count": 5,
   "metadata": {
    "cell_style": "split"
   },
   "outputs": [
    {
     "data": {
      "application/vnd.jupyter.widget-view+json": {
       "model_id": "19eff8833fb3416282cb728d47219a97",
       "version_major": 2,
       "version_minor": 0
      },
      "text/plain": [
       "DatePicker(value=None, description='Start Date')"
      ]
     },
     "metadata": {},
     "output_type": "display_data"
    },
    {
     "data": {
      "application/vnd.jupyter.widget-view+json": {
       "model_id": "2d82221e75c84bcca711dad82fe12120",
       "version_major": 2,
       "version_minor": 0
      },
      "text/plain": [
       "DatePicker(value=None, description='End Date')"
      ]
     },
     "metadata": {},
     "output_type": "display_data"
    }
   ],
   "source": [
    "start = w.DatePicker(description='Start Date',disabled=False)\n",
    "display(start)\n",
    "end = w.DatePicker(description='End Date',disabled=False)\n",
    "display(end)"
   ]
  },
  {
   "cell_type": "code",
   "execution_count": 6,
   "metadata": {},
   "outputs": [],
   "source": [
    "if(end.value < start.value):\n",
    "    print(\"Wrong end date! Please select an end date later than the start date.\")"
   ]
  },
  {
   "cell_type": "code",
   "execution_count": 5,
   "metadata": {
    "scrolled": true
   },
   "outputs": [
    {
     "name": "stdout",
     "output_type": "stream",
     "text": [
      "Select and rate atleast 5 categories and rate them:\n"
     ]
    },
    {
     "data": {
      "application/vnd.jupyter.widget-view+json": {
       "model_id": "ebfefe7e2c8e4910aae9a7d42aef2b2a",
       "version_major": 2,
       "version_minor": 0
      },
      "text/plain": [
       "HBox(children=(VBox(children=(Button(description='private_&_custom_tours', layout=Layout(height='100px', width…"
      ]
     },
     "metadata": {},
     "output_type": "display_data"
    },
    {
     "name": "stdout",
     "output_type": "stream",
     "text": [
      "food,_wine_&_nightlife\n"
     ]
    },
    {
     "data": {
      "application/vnd.jupyter.widget-view+json": {
       "model_id": "17fd57f56f234730a70b7ee62b755420",
       "version_major": 2,
       "version_minor": 0
      },
      "text/plain": [
       "IntSlider(value=0, description='Rate', max=5)"
      ]
     },
     "metadata": {},
     "output_type": "display_data"
    },
    {
     "name": "stdout",
     "output_type": "stream",
     "text": [
      "Rate 4 more!\n",
      "\n",
      "water_sports\n"
     ]
    },
    {
     "data": {
      "application/vnd.jupyter.widget-view+json": {
       "model_id": "937228aa7d3c44cda4ff5843303ab2bb",
       "version_major": 2,
       "version_minor": 0
      },
      "text/plain": [
       "IntSlider(value=0, description='Rate', max=5)"
      ]
     },
     "metadata": {},
     "output_type": "display_data"
    },
    {
     "name": "stdout",
     "output_type": "stream",
     "text": [
      "Rate 3 more!\n",
      "\n",
      "shore_excursions\n"
     ]
    },
    {
     "data": {
      "application/vnd.jupyter.widget-view+json": {
       "model_id": "40fe6fd321ed494b8d436cd6f72462af",
       "version_major": 2,
       "version_minor": 0
      },
      "text/plain": [
       "IntSlider(value=0, description='Rate', max=5)"
      ]
     },
     "metadata": {},
     "output_type": "display_data"
    },
    {
     "name": "stdout",
     "output_type": "stream",
     "text": [
      "Rate 2 more!\n",
      "\n",
      "walking_&_biking_tours\n"
     ]
    },
    {
     "data": {
      "application/vnd.jupyter.widget-view+json": {
       "model_id": "1ea91772fdaa4240a38949c0f5829371",
       "version_major": 2,
       "version_minor": 0
      },
      "text/plain": [
       "IntSlider(value=0, description='Rate', max=5)"
      ]
     },
     "metadata": {},
     "output_type": "display_data"
    },
    {
     "name": "stdout",
     "output_type": "stream",
     "text": [
      "Rate 1 more!\n",
      "\n",
      "sightseeing_tickets_&_passes\n"
     ]
    },
    {
     "data": {
      "application/vnd.jupyter.widget-view+json": {
       "model_id": "3654e524fcdb4f1fa0bb4d0841bb2ce3",
       "version_major": 2,
       "version_minor": 0
      },
      "text/plain": [
       "IntSlider(value=0, description='Rate', max=5)"
      ]
     },
     "metadata": {},
     "output_type": "display_data"
    },
    {
     "name": "stdout",
     "output_type": "stream",
     "text": [
      "tours_&_sightseeing\n"
     ]
    },
    {
     "data": {
      "application/vnd.jupyter.widget-view+json": {
       "model_id": "c7fd274565e741de9d79d5fd876fdb0c",
       "version_major": 2,
       "version_minor": 0
      },
      "text/plain": [
       "IntSlider(value=0, description='Rate', max=5)"
      ]
     },
     "metadata": {},
     "output_type": "display_data"
    },
    {
     "name": "stdout",
     "output_type": "stream",
     "text": [
      "cultural_&_theme_tours\n"
     ]
    },
    {
     "data": {
      "application/vnd.jupyter.widget-view+json": {
       "model_id": "536daeebb9874189af26f4d013765b64",
       "version_major": 2,
       "version_minor": 0
      },
      "text/plain": [
       "IntSlider(value=0, description='Rate', max=5)"
      ]
     },
     "metadata": {},
     "output_type": "display_data"
    },
    {
     "name": "stdout",
     "output_type": "stream",
     "text": [
      "private_&_custom_tours\n"
     ]
    },
    {
     "data": {
      "application/vnd.jupyter.widget-view+json": {
       "model_id": "9d94cc14eb1c482090d53b9d590500d4",
       "version_major": 2,
       "version_minor": 0
      },
      "text/plain": [
       "IntSlider(value=0, description='Rate', max=5)"
      ]
     },
     "metadata": {},
     "output_type": "display_data"
    }
   ],
   "source": [
    "category_df = att_df.groupby('category').size().reset_index().sort_values([0],ascending=False)[:18]\n",
    "categories = list(category_df.category.values)\n",
    "cat_rat = dict()\n",
    "def on_button_clicked(b):\n",
    "    if b.description in cat_rat:\n",
    "        return\n",
    "    print(b.description)\n",
    "    slider = w.IntSlider(min=0,max=5,step=1,description='Rate')\n",
    "    display(slider)\n",
    "    cat_rat[b.description] = slider\n",
    "    if(len(cat_rat) < 5):\n",
    "        print(\"Rate {x} more!\\n\".format(x=5-len(cat_rat)))\n",
    "    \n",
    "but_layout = w.Layout(width='100%', height='100px')\n",
    "but_items = [w.Button(description=c, layout=but_layout) for c in categories]\n",
    "on_clk = [item.on_click(on_button_clicked) for item in but_items]\n",
    "r1 = w.VBox([i for i in but_items[:6]])\n",
    "r2 = w.VBox([i for i in but_items[6:12]])\n",
    "r3 = w.VBox([i for i in but_items[12:]])\n",
    "buttons = w.HBox([r1,r2,r3])\n",
    "print(\"Select and rate atleast 5 categories and rate them:\")\n",
    "display(buttons)"
   ]
  },
  {
   "cell_type": "code",
   "execution_count": 7,
   "metadata": {
    "hide_input": false
   },
   "outputs": [],
   "source": [
    "user_name = re.sub(' ','_',name.value.lower())\n",
    "province = re.sub(' ','_',place.value.lower())\n",
    "(low,high) = tuple([float(i) for i in budget.value])\n",
    "begin_date = start.value\n",
    "end_date = end.value\n",
    "# cat_rating = dict()\n",
    "# for key, value in cat_rat.items():\n",
    "#     cat_rating[key] = float(value.value)\n",
    "# cat_rating"
   ]
  },
  {
   "cell_type": "code",
   "execution_count": 12,
   "metadata": {},
   "outputs": [],
   "source": [
    "def f(row):\n",
    "    avg_cat_rat = dict()\n",
    "    for i in range(len(row['category'])):\n",
    "        if row['category'][i] not in avg_cat_rat:\n",
    "            avg_cat_rat[row['category'][i]] = [row['rating'][i]]\n",
    "        else:\n",
    "            avg_cat_rat[row['category'][i]].append(row['rating'][i])\n",
    "    for key,value in avg_cat_rat.items():\n",
    "        avg_cat_rat[key] = sum(value)/len(value)\n",
    "    return avg_cat_rat\n",
    "\n",
    "def sim_score(row):\n",
    "    score = 0.0\n",
    "    match = 0\n",
    "    col1 = row['cat_rat']\n",
    "    col2 = row['user_data']\n",
    "    for key, value in col2.items():\n",
    "        if key in col1:\n",
    "            match+=1\n",
    "            score += (value-col1[key])**2\n",
    "    if match != 0:\n",
    "        return ((math.sqrt(score)/match) + (len(col2) - match))\n",
    "    else:\n",
    "        return 100"
   ]
  },
  {
   "cell_type": "code",
   "execution_count": 15,
   "metadata": {},
   "outputs": [],
   "source": [
    "def get_recc(cat_rating):\n",
    "    util = Util()\n",
    "    epochs = 50\n",
    "    rows = 40000\n",
    "    alpha = 0.01\n",
    "    H = 128\n",
    "    batch_size = 16\n",
    "    dir= 'etl/'\n",
    "    ratings, attractions = util.read_data(dir)\n",
    "    ratings = util.clean_subset(ratings, rows)\n",
    "    rbm_att, train = util.preprocess(ratings)\n",
    "    num_vis =  len(ratings)\n",
    "    rbm = RBM(alpha, H, num_vis)\n",
    "    \n",
    "    joined = ratings.set_index('attraction_id').join(attractions[[\"attraction_id\",\"category\"]].set_index(\"attraction_id\")).reset_index('attraction_id')\n",
    "    grouped = joined.groupby('user_id')\n",
    "    category_df = grouped['category'].apply(list).reset_index()\n",
    "    rating_df = grouped['rating'].apply(list).reset_index()\n",
    "    cat_rat_df = category_df.set_index('user_id').join(rating_df.set_index('user_id'))\n",
    "    cat_rat_df['cat_rat'] = cat_rat_df.apply(f,axis=1)\n",
    "    cat_rat_df = cat_rat_df.reset_index()[['user_id','cat_rat']]\n",
    "    \n",
    "    cat_rat_df['user_data'] = [cat_rating for i in range(len(cat_rat_df))]\n",
    "    cat_rat_df['sim_score'] = cat_rat_df.apply(sim_score, axis=1)\n",
    "    user = cat_rat_df.sort_values(['sim_score']).values[0][0]\n",
    "    print(\"Similar User: {u}\".format(u=user))\n",
    "    filename = \"e\"+str(epochs)+\"_r\"+str(rows)+\"_lr\"+str(alpha)+\"_hu\"+str(H)+\"_bs\"+str(batch_size)\n",
    "    reco, weights, vb, hb = rbm.load_predict(filename,train,user)\n",
    "    unseen, seen = rbm.calculate_scores(ratings, attractions, reco, user)\n",
    "    rbm.export(unseen, seen, 'recommendations/'+filename, str(user))\n",
    "    return filename, user, rbm_att"
   ]
  },
  {
   "cell_type": "code",
   "execution_count": 16,
   "metadata": {},
   "outputs": [
    {
     "name": "stdout",
     "output_type": "stream",
     "text": [
      "Reading the data\n",
      "Extracting num_rows from ratings\n",
      "Preprocessing the dataset\n",
      "Similar User: 15\n",
      "Model restored\n"
     ]
    },
    {
     "data": {
      "text/html": [
       "<div>\n",
       "<style scoped>\n",
       "    .dataframe tbody tr th:only-of-type {\n",
       "        vertical-align: middle;\n",
       "    }\n",
       "\n",
       "    .dataframe tbody tr th {\n",
       "        vertical-align: top;\n",
       "    }\n",
       "\n",
       "    .dataframe thead th {\n",
       "        text-align: right;\n",
       "    }\n",
       "</style>\n",
       "<table border=\"1\" class=\"dataframe\">\n",
       "  <thead>\n",
       "    <tr style=\"text-align: right;\">\n",
       "      <th></th>\n",
       "      <th>attraction_id</th>\n",
       "      <th>Recommendation Score</th>\n",
       "    </tr>\n",
       "  </thead>\n",
       "  <tbody>\n",
       "    <tr>\n",
       "      <th>0</th>\n",
       "      <td>0</td>\n",
       "      <td>0.018641</td>\n",
       "    </tr>\n",
       "    <tr>\n",
       "      <th>1</th>\n",
       "      <td>1</td>\n",
       "      <td>0.003147</td>\n",
       "    </tr>\n",
       "    <tr>\n",
       "      <th>2</th>\n",
       "      <td>2</td>\n",
       "      <td>0.000258</td>\n",
       "    </tr>\n",
       "    <tr>\n",
       "      <th>3</th>\n",
       "      <td>3</td>\n",
       "      <td>0.000034</td>\n",
       "    </tr>\n",
       "    <tr>\n",
       "      <th>4</th>\n",
       "      <td>4</td>\n",
       "      <td>0.000369</td>\n",
       "    </tr>\n",
       "  </tbody>\n",
       "</table>\n",
       "</div>"
      ],
      "text/plain": [
       "   attraction_id  Recommendation Score\n",
       "0              0              0.018641\n",
       "1              1              0.003147\n",
       "2              2              0.000258\n",
       "3              3              0.000034\n",
       "4              4              0.000369"
      ]
     },
     "metadata": {},
     "output_type": "display_data"
    }
   ],
   "source": [
    "filename, user, rbm_att = get_recc(cat_rating)\n",
    "recc_df = pd.read_csv('recommendations/'+filename+'/user{u}_unseen.csv'.format(u=user), index_col=0)"
   ]
  },
  {
   "cell_type": "code",
   "execution_count": 8,
   "metadata": {},
   "outputs": [
    {
     "data": {
      "text/html": [
       "<div>\n",
       "<style scoped>\n",
       "    .dataframe tbody tr th:only-of-type {\n",
       "        vertical-align: middle;\n",
       "    }\n",
       "\n",
       "    .dataframe tbody tr th {\n",
       "        vertical-align: top;\n",
       "    }\n",
       "\n",
       "    .dataframe thead th {\n",
       "        text-align: right;\n",
       "    }\n",
       "</style>\n",
       "<table border=\"1\" class=\"dataframe\">\n",
       "  <thead>\n",
       "    <tr style=\"text-align: right;\">\n",
       "      <th></th>\n",
       "      <th>attraction_id</th>\n",
       "      <th>att_name</th>\n",
       "      <th>att_cat</th>\n",
       "      <th>att_price</th>\n",
       "      <th>score</th>\n",
       "    </tr>\n",
       "  </thead>\n",
       "  <tbody>\n",
       "    <tr>\n",
       "      <th>6</th>\n",
       "      <td>6</td>\n",
       "      <td>whistler_small-group_day_trip_from_vancouver</td>\n",
       "      <td>featured_tours_and_tickets</td>\n",
       "      <td>145.00</td>\n",
       "      <td>5.000000</td>\n",
       "    </tr>\n",
       "    <tr>\n",
       "      <th>576</th>\n",
       "      <td>1303</td>\n",
       "      <td>vancouver_city_sightseeing_tour</td>\n",
       "      <td>tours_&amp;_sightseeing</td>\n",
       "      <td>80.00</td>\n",
       "      <td>4.382824</td>\n",
       "    </tr>\n",
       "    <tr>\n",
       "      <th>1463</th>\n",
       "      <td>3470</td>\n",
       "      <td>whistler_sasquatch_zipline</td>\n",
       "      <td>recommended_experiences</td>\n",
       "      <td>135.45</td>\n",
       "      <td>3.118515</td>\n",
       "    </tr>\n",
       "    <tr>\n",
       "      <th>5</th>\n",
       "      <td>5</td>\n",
       "      <td>niagara_falls_in_one_day:_deluxe_sightseeing_t...</td>\n",
       "      <td>featured_tours_and_tickets</td>\n",
       "      <td>204.42</td>\n",
       "      <td>2.487308</td>\n",
       "    </tr>\n",
       "    <tr>\n",
       "      <th>1407</th>\n",
       "      <td>3404</td>\n",
       "      <td>stanley_park_horse-drawn_tours</td>\n",
       "      <td>recommended_experiences</td>\n",
       "      <td>42.00</td>\n",
       "      <td>2.251432</td>\n",
       "    </tr>\n",
       "    <tr>\n",
       "      <th>1434</th>\n",
       "      <td>3431</td>\n",
       "      <td>flavors_of_old_montreal_walking_tour</td>\n",
       "      <td>recommended_experiences</td>\n",
       "      <td>68.00</td>\n",
       "      <td>2.135264</td>\n",
       "    </tr>\n",
       "    <tr>\n",
       "      <th>583</th>\n",
       "      <td>1310</td>\n",
       "      <td>best_of_niagara_falls_tour_from_niagara_falls,...</td>\n",
       "      <td>tours_&amp;_sightseeing</td>\n",
       "      <td>158.00</td>\n",
       "      <td>2.110758</td>\n",
       "    </tr>\n",
       "    <tr>\n",
       "      <th>913</th>\n",
       "      <td>2025</td>\n",
       "      <td>little_italy_walking_food_tour_in_vancouver</td>\n",
       "      <td>walking_&amp;_biking_tours</td>\n",
       "      <td>73.00</td>\n",
       "      <td>2.034340</td>\n",
       "    </tr>\n",
       "    <tr>\n",
       "      <th>0</th>\n",
       "      <td>0</td>\n",
       "      <td>vancouver_city_sightseeing_tour</td>\n",
       "      <td>featured_tours_and_tickets</td>\n",
       "      <td>80.00</td>\n",
       "      <td>2.000344</td>\n",
       "    </tr>\n",
       "    <tr>\n",
       "      <th>1061</th>\n",
       "      <td>2258</td>\n",
       "      <td>niagara_falls_helicopter_tour</td>\n",
       "      <td>family_friendly</td>\n",
       "      <td>145.00</td>\n",
       "      <td>1.843741</td>\n",
       "    </tr>\n",
       "    <tr>\n",
       "      <th>470</th>\n",
       "      <td>1081</td>\n",
       "      <td>2_hour_banff_horseback_riding_adventure</td>\n",
       "      <td>outdoor_activities</td>\n",
       "      <td>124.95</td>\n",
       "      <td>1.833026</td>\n",
       "    </tr>\n",
       "    <tr>\n",
       "      <th>700</th>\n",
       "      <td>1571</td>\n",
       "      <td>niagara_falls_canada_tour_from_niagara_usa</td>\n",
       "      <td>tours_&amp;_sightseeing</td>\n",
       "      <td>156.71</td>\n",
       "      <td>1.737600</td>\n",
       "    </tr>\n",
       "    <tr>\n",
       "      <th>1296</th>\n",
       "      <td>3285</td>\n",
       "      <td>niagara_falls_day_tour_from_toronto</td>\n",
       "      <td>recommended_experiences</td>\n",
       "      <td>94.92</td>\n",
       "      <td>1.734268</td>\n",
       "    </tr>\n",
       "    <tr>\n",
       "      <th>77</th>\n",
       "      <td>135</td>\n",
       "      <td>summer_whale_watching_on_vancouver_island</td>\n",
       "      <td>cruises,_sailing_&amp;_water_tours</td>\n",
       "      <td>145.95</td>\n",
       "      <td>1.664008</td>\n",
       "    </tr>\n",
       "    <tr>\n",
       "      <th>1051</th>\n",
       "      <td>2247</td>\n",
       "      <td>niagara_falls_day_and_evening_tour_with_boat_c...</td>\n",
       "      <td>family_friendly</td>\n",
       "      <td>169.00</td>\n",
       "      <td>1.617617</td>\n",
       "    </tr>\n",
       "    <tr>\n",
       "      <th>277</th>\n",
       "      <td>583</td>\n",
       "      <td>niagara_falls_one_day_sightseeing_tour_from_to...</td>\n",
       "      <td>food,_wine_&amp;_nightlife</td>\n",
       "      <td>99.00</td>\n",
       "      <td>1.570243</td>\n",
       "    </tr>\n",
       "    <tr>\n",
       "      <th>1044</th>\n",
       "      <td>2239</td>\n",
       "      <td>niagara_falls_day_tour_from_toronto</td>\n",
       "      <td>family_friendly</td>\n",
       "      <td>94.92</td>\n",
       "      <td>1.526758</td>\n",
       "    </tr>\n",
       "    <tr>\n",
       "      <th>1300</th>\n",
       "      <td>3289</td>\n",
       "      <td>quebec_city_walking_tour</td>\n",
       "      <td>recommended_experiences</td>\n",
       "      <td>30.99</td>\n",
       "      <td>1.505542</td>\n",
       "    </tr>\n",
       "    <tr>\n",
       "      <th>1048</th>\n",
       "      <td>2243</td>\n",
       "      <td>half-day_trip_to_montmorency_falls_and_ste-ann...</td>\n",
       "      <td>family_friendly</td>\n",
       "      <td>57.50</td>\n",
       "      <td>1.419180</td>\n",
       "    </tr>\n",
       "    <tr>\n",
       "      <th>1105</th>\n",
       "      <td>2419</td>\n",
       "      <td>ottawa_river_historic_sightseeing_cruise</td>\n",
       "      <td>family_friendly</td>\n",
       "      <td>28.00</td>\n",
       "      <td>1.410744</td>\n",
       "    </tr>\n",
       "  </tbody>\n",
       "</table>\n",
       "</div>"
      ],
      "text/plain": [
       "      attraction_id                                           att_name  \\\n",
       "6                 6       whistler_small-group_day_trip_from_vancouver   \n",
       "576            1303                    vancouver_city_sightseeing_tour   \n",
       "1463           3470                         whistler_sasquatch_zipline   \n",
       "5                 5  niagara_falls_in_one_day:_deluxe_sightseeing_t...   \n",
       "1407           3404                     stanley_park_horse-drawn_tours   \n",
       "1434           3431               flavors_of_old_montreal_walking_tour   \n",
       "583            1310  best_of_niagara_falls_tour_from_niagara_falls,...   \n",
       "913            2025        little_italy_walking_food_tour_in_vancouver   \n",
       "0                 0                    vancouver_city_sightseeing_tour   \n",
       "1061           2258                      niagara_falls_helicopter_tour   \n",
       "470            1081            2_hour_banff_horseback_riding_adventure   \n",
       "700            1571         niagara_falls_canada_tour_from_niagara_usa   \n",
       "1296           3285                niagara_falls_day_tour_from_toronto   \n",
       "77              135          summer_whale_watching_on_vancouver_island   \n",
       "1051           2247  niagara_falls_day_and_evening_tour_with_boat_c...   \n",
       "277             583  niagara_falls_one_day_sightseeing_tour_from_to...   \n",
       "1044           2239                niagara_falls_day_tour_from_toronto   \n",
       "1300           3289                           quebec_city_walking_tour   \n",
       "1048           2243  half-day_trip_to_montmorency_falls_and_ste-ann...   \n",
       "1105           2419           ottawa_river_historic_sightseeing_cruise   \n",
       "\n",
       "                             att_cat  att_price     score  \n",
       "6         featured_tours_and_tickets     145.00  5.000000  \n",
       "576              tours_&_sightseeing      80.00  4.382824  \n",
       "1463         recommended_experiences     135.45  3.118515  \n",
       "5         featured_tours_and_tickets     204.42  2.487308  \n",
       "1407         recommended_experiences      42.00  2.251432  \n",
       "1434         recommended_experiences      68.00  2.135264  \n",
       "583              tours_&_sightseeing     158.00  2.110758  \n",
       "913           walking_&_biking_tours      73.00  2.034340  \n",
       "0         featured_tours_and_tickets      80.00  2.000344  \n",
       "1061                 family_friendly     145.00  1.843741  \n",
       "470               outdoor_activities     124.95  1.833026  \n",
       "700              tours_&_sightseeing     156.71  1.737600  \n",
       "1296         recommended_experiences      94.92  1.734268  \n",
       "77    cruises,_sailing_&_water_tours     145.95  1.664008  \n",
       "1051                 family_friendly     169.00  1.617617  \n",
       "277           food,_wine_&_nightlife      99.00  1.570243  \n",
       "1044                 family_friendly      94.92  1.526758  \n",
       "1300         recommended_experiences      30.99  1.505542  \n",
       "1048                 family_friendly      57.50  1.419180  \n",
       "1105                 family_friendly      28.00  1.410744  "
      ]
     },
     "metadata": {},
     "output_type": "display_data"
    }
   ],
   "source": [
    "filename = \"e\"+str(50)+\"_r\"+str(40000)+\"_lr\"+str(0.01)+\"_hu\"+str(128)+\"_bs\"+str(16)\n",
    "recc_df = pd.read_csv('recommendations/'+filename+'/user{u}_unseen.csv'.format(u=15), index_col=0)\n",
    "recc_df.columns = ['attraction_id', 'att_name', 'att_cat', 'att_price', 'score']\n",
    "# display(cat_rating)\n",
    "display(recc_df.head(20))"
   ]
  },
  {
   "cell_type": "code",
   "execution_count": 9,
   "metadata": {},
   "outputs": [],
   "source": [
    "recommendation = att_df[['attraction_id','name','category','city','latitude','longitude','price','province','rating']].set_index('attraction_id').join(recc_df[['attraction_id','score']].set_index('attraction_id'), how=\"inner\").reset_index().sort_values(\"score\",ascending=False)\n",
    "filtered = recommendation[(recommendation.province == province) & (recommendation.price >= low) & (recommendation.price >= low)]"
   ]
  },
  {
   "cell_type": "code",
   "execution_count": 28,
   "metadata": {},
   "outputs": [
    {
     "data": {
      "text/html": [
       "<div>\n",
       "<style scoped>\n",
       "    .dataframe tbody tr th:only-of-type {\n",
       "        vertical-align: middle;\n",
       "    }\n",
       "\n",
       "    .dataframe tbody tr th {\n",
       "        vertical-align: top;\n",
       "    }\n",
       "\n",
       "    .dataframe thead th {\n",
       "        text-align: right;\n",
       "    }\n",
       "</style>\n",
       "<table border=\"1\" class=\"dataframe\">\n",
       "  <thead>\n",
       "    <tr style=\"text-align: right;\">\n",
       "      <th></th>\n",
       "      <th>name</th>\n",
       "      <th>category</th>\n",
       "      <th>city</th>\n",
       "      <th>latitude</th>\n",
       "      <th>longitude</th>\n",
       "      <th>price</th>\n",
       "      <th>province</th>\n",
       "      <th>rating</th>\n",
       "      <th>score</th>\n",
       "      <th>attraction</th>\n",
       "    </tr>\n",
       "  </thead>\n",
       "  <tbody>\n",
       "    <tr>\n",
       "      <th>5</th>\n",
       "      <td>niagara_falls_in_one_day:_deluxe_sightseeing_t...</td>\n",
       "      <td>featured_tours_and_tickets</td>\n",
       "      <td>niagara_falls</td>\n",
       "      <td>43.102436</td>\n",
       "      <td>-78.961639</td>\n",
       "      <td>204.42</td>\n",
       "      <td>ontario</td>\n",
       "      <td>5.0</td>\n",
       "      <td>2.487308</td>\n",
       "      <td>https://tripadvisor.ca/AttractionProductDetail...</td>\n",
       "    </tr>\n",
       "    <tr>\n",
       "      <th>1310</th>\n",
       "      <td>best_of_niagara_falls_tour_from_niagara_falls,...</td>\n",
       "      <td>tours_&amp;_sightseeing</td>\n",
       "      <td>niagara_falls</td>\n",
       "      <td>43.085712</td>\n",
       "      <td>-79.082428</td>\n",
       "      <td>158.00</td>\n",
       "      <td>ontario</td>\n",
       "      <td>5.0</td>\n",
       "      <td>2.110758</td>\n",
       "      <td>https://tripadvisor.ca/AttractionProductDetail...</td>\n",
       "    </tr>\n",
       "    <tr>\n",
       "      <th>2258</th>\n",
       "      <td>niagara_falls_helicopter_tour</td>\n",
       "      <td>family_friendly</td>\n",
       "      <td>niagara_falls</td>\n",
       "      <td>43.118603</td>\n",
       "      <td>-79.074387</td>\n",
       "      <td>145.00</td>\n",
       "      <td>ontario</td>\n",
       "      <td>4.5</td>\n",
       "      <td>1.843741</td>\n",
       "      <td>https://tripadvisor.ca/AttractionProductDetail...</td>\n",
       "    </tr>\n",
       "    <tr>\n",
       "      <th>3285</th>\n",
       "      <td>niagara_falls_day_tour_from_toronto</td>\n",
       "      <td>recommended_experiences</td>\n",
       "      <td>toronto</td>\n",
       "      <td>43.703075</td>\n",
       "      <td>-79.406387</td>\n",
       "      <td>94.92</td>\n",
       "      <td>ontario</td>\n",
       "      <td>5.0</td>\n",
       "      <td>1.734268</td>\n",
       "      <td>https://tripadvisor.ca/AttractionProductDetail...</td>\n",
       "    </tr>\n",
       "    <tr>\n",
       "      <th>2247</th>\n",
       "      <td>niagara_falls_day_and_evening_tour_with_boat_c...</td>\n",
       "      <td>family_friendly</td>\n",
       "      <td>toronto</td>\n",
       "      <td>43.683743</td>\n",
       "      <td>-79.592911</td>\n",
       "      <td>169.00</td>\n",
       "      <td>ontario</td>\n",
       "      <td>4.5</td>\n",
       "      <td>1.617617</td>\n",
       "      <td>https://tripadvisor.ca/AttractionProductDetail...</td>\n",
       "    </tr>\n",
       "  </tbody>\n",
       "</table>\n",
       "</div>"
      ],
      "text/plain": [
       "                                                   name  \\\n",
       "5     niagara_falls_in_one_day:_deluxe_sightseeing_t...   \n",
       "1310  best_of_niagara_falls_tour_from_niagara_falls,...   \n",
       "2258                      niagara_falls_helicopter_tour   \n",
       "3285                niagara_falls_day_tour_from_toronto   \n",
       "2247  niagara_falls_day_and_evening_tour_with_boat_c...   \n",
       "\n",
       "                        category           city   latitude  longitude   price  \\\n",
       "5     featured_tours_and_tickets  niagara_falls  43.102436 -78.961639  204.42   \n",
       "1310         tours_&_sightseeing  niagara_falls  43.085712 -79.082428  158.00   \n",
       "2258             family_friendly  niagara_falls  43.118603 -79.074387  145.00   \n",
       "3285     recommended_experiences        toronto  43.703075 -79.406387   94.92   \n",
       "2247             family_friendly        toronto  43.683743 -79.592911  169.00   \n",
       "\n",
       "     province  rating     score  \\\n",
       "5     ontario     5.0  2.487308   \n",
       "1310  ontario     5.0  2.110758   \n",
       "2258  ontario     4.5  1.843741   \n",
       "3285  ontario     5.0  1.734268   \n",
       "2247  ontario     4.5  1.617617   \n",
       "\n",
       "                                             attraction  \n",
       "5     https://tripadvisor.ca/AttractionProductDetail...  \n",
       "1310  https://tripadvisor.ca/AttractionProductDetail...  \n",
       "2258  https://tripadvisor.ca/AttractionProductDetail...  \n",
       "3285  https://tripadvisor.ca/AttractionProductDetail...  \n",
       "2247  https://tripadvisor.ca/AttractionProductDetail...  "
      ]
     },
     "execution_count": 28,
     "metadata": {},
     "output_type": "execute_result"
    }
   ],
   "source": [
    "url = pd.read_json('outputs/attractions_cat.json',orient='records')\n",
    "url['id'] = url.index\n",
    "with_url = filtered.set_index('attraction_id').join(url[['id','attraction']].set_index('id'), how=\"inner\")\n",
    "with_url.head()"
   ]
  },
  {
   "cell_type": "code",
   "execution_count": 38,
   "metadata": {
    "scrolled": true
   },
   "outputs": [
    {
     "name": "stdout",
     "output_type": "stream",
     "text": [
      "['evening', 'evening', 'evening', 'flush', 'even', 'even', 'night', 'night', 'night', 'night', 'night', 'night', 'night', 'Nox']\n",
      "\n",
      "Item no.: 1 --> Item name = niagara_falls_in_one_day:_deluxe_sightseeing_tour_of_american_and_canadian_sides\n",
      "Evaluating...\n",
      "Morning\n",
      "\n",
      "Item no.: 1 --> Item name = niagara_falls_canadian_side_tour_and_maid_of_the_mist_boat_ride\n",
      "Evaluating...\n",
      "Starting Download...\n",
      "Completed Image ====> 1. niagara-falls-canadian.jpg\n",
      "\n",
      "Errors: 0\n",
      "\n",
      "Evening\n",
      "\n",
      "Item no.: 1 --> Item name = 6-hour_niagara_falls_canadian_side_evening_illuminations_tour\n",
      "Evaluating...\n",
      "Starting Download...\n",
      "Completed Image ====> 1. 6-hour-niagara-falls.jpg\n",
      "\n",
      "Errors: 0\n",
      "\n",
      "Evening\n",
      "\n",
      "Item no.: 1 --> Item name = day_and_night_tour_of_niagara_falls\n",
      "Evaluating...\n",
      "Starting Download...\n",
      "Completed Image ====> 1. day-and-night-tour-of-niagara-falls-in-niagara-falls-193929.jpg\n",
      "\n",
      "Errors: 0\n",
      "\n",
      "\n",
      "Item no.: 1 --> Item name = best_of_niagara_falls_tour_from_niagara_falls\n",
      "Evaluating...\n",
      "Starting Download...\n",
      "Completed Image ====> 1. best-of-niagara-falls-tour-from-niagara-falls-ontario-in-niagara-falls-190431.jpg\n",
      "\n",
      "Errors: 0\n",
      "\n",
      "Morning\n",
      "\n",
      "Item no.: 1 --> Item name = niagara_falls_night_tour_with_dinner_and_cruise\n",
      "Evaluating...\n",
      "Starting Download...\n",
      "Completed Image ====> 1. niagara-falls-night-tour-with-dinner-and-cruise-in-niagara-falls-218806.jpg\n",
      "\n",
      "Errors: 0\n",
      "\n",
      "Evening\n",
      "\n",
      "Item no.: 1 --> Item name = epic_toronto_night_tour\n",
      "Evaluating...\n",
      "Starting Download...\n",
      "Completed Image ====> 1. epic-toronto-night-tour.jpg\n",
      "\n",
      "Errors: 0\n",
      "\n",
      "Evening\n",
      "\n",
      "Item no.: 1 --> Item name = friday_night_wine_and_cheese_sail_in_toronto\n",
      "Evaluating...\n",
      "Starting Download...\n",
      "Completed Image ====> 1. friday-night-wine-and-cheese-sail-in-toronto-in-toronto-188863.jpg\n",
      "\n",
      "Errors: 0\n",
      "\n",
      "\n",
      "Item no.: 1 --> Item name = niagara_falls_helicopter_tour\n",
      "Evaluating...\n",
      "Starting Download...\n",
      "Completed Image ====> 1. niagara-falls-heliopter_0.jpg\n",
      "\n",
      "Errors: 0\n",
      "\n",
      "Morning\n",
      "\n",
      "Item no.: 1 --> Item name = bird_kingdom_all_day_admission_ticket\n",
      "Evaluating...\n",
      "Starting Download...\n",
      "Completed Image ====> 1. bird-kingdom-all-day.jpg\n",
      "\n",
      "Errors: 0\n",
      "\n",
      "Evening\n",
      "\n",
      "Item no.: 1 --> Item name = niagara_falls_evening_lights_day_trip_from_toronto\n",
      "Evaluating...\n",
      "Starting Download...\n",
      "Completed Image ====> 1. 1551259852-9027-15_crop_flip_800_450_f2f2f2_center-center.jpg\n",
      "\n",
      "Errors: 0\n",
      "\n",
      "Evening\n",
      "\n",
      "Item no.: 1 --> Item name = toronto_islands_evening_bike_tour\n",
      "Evaluating...\n",
      "Starting Download...\n",
      "Completed Image ====> 1. toronto-islands-evening.jpg\n",
      "\n",
      "Errors: 0\n",
      "\n"
     ]
    }
   ],
   "source": [
    "def get_image(name):\n",
    "    name = name.split(\",\")[0]\n",
    "    response = google_images_download.googleimagesdownload()\n",
    "    args_list = [\"keywords\", \"keywords_from_file\", \"prefix_keywords\", \"suffix_keywords\",\n",
    "             \"limit\", \"format\", \"color\", \"color_type\", \"usage_rights\", \"size\",\n",
    "             \"exact_size\", \"aspect_ratio\", \"type\", \"time\", \"time_range\", \"delay\", \"url\", \"single_image\",\n",
    "             \"output_directory\", \"image_directory\", \"no_directory\", \"proxy\", \"similar_images\", \"specific_site\",\n",
    "             \"print_urls\", \"print_size\", \"print_paths\", \"metadata\", \"extract_metadata\", \"socket_timeout\",\n",
    "             \"thumbnail\", \"language\", \"prefix\", \"chromedriver\", \"related_images\", \"safe_search\", \"no_numbering\",\n",
    "             \"offset\", \"no_download\"]\n",
    "    args = {}\n",
    "    for i in args_list:\n",
    "        args[i]= None\n",
    "    args[\"keywords\"] = name\n",
    "    args['limit'] = 1\n",
    "    params = response.build_url_parameters(args)\n",
    "    url = 'https://www.google.com/search?q=' + quote(name) + '&espv=2&biw=1366&bih=667&site=webhp&source=lnms&tbm=isch' + params + '&sa=X&ei=XosDVaCXD8TasATItgE&ved=0CAcQ_AUoAg'\n",
    "    try:\n",
    "        response.download(args)\n",
    "        for filename in glob.glob(\"downloads/{name}/*.jpg\".format(name=name)):\n",
    "            return filename\n",
    "    except:\n",
    "        for filename in glob.glob(\"downloads/*.png\"):\n",
    "            return filename\n",
    "\n",
    "\n",
    "def top_recc(with_url):\n",
    "    i=0\n",
    "    while(1):\n",
    "        first_recc = with_url.iloc[[i]]\n",
    "        if(first_recc['name'].values.T[0] not in final['name']):\n",
    "            final['name'].append(first_recc['name'].values.T[0])\n",
    "            final['location'].append(first_recc[['latitude','longitude']].values.tolist()[0])\n",
    "            final['price'].append(first_recc['price'].values.T[0])\n",
    "            final['rating'].append(first_recc['rating'].values.T[0])\n",
    "            final['image'].append(get_image(first_recc['name'].values.T[0]))\n",
    "            final['category'].append(first_recc['category'].values.T[0])\n",
    "            return\n",
    "        else:\n",
    "            i+=1\n",
    "\n",
    "def find_closest(loc,tod):\n",
    "    distance = list()\n",
    "    for i in with_url[['latitude','longitude']].values.tolist():\n",
    "        distance.append(math.sqrt((loc[0]-i[0])**2 + (loc[1]-i[1])**2))\n",
    "    with_dist = with_url\n",
    "    with_dist[\"distance\"] = distance\n",
    "    sorted_d = with_dist.sort_values('distance')\n",
    "    if tod == \"Evening\":\n",
    "        mask = sorted_d.name.apply(lambda x: any(j in x for j in evening))\n",
    "        sorted_d  = sorted_d[mask]\n",
    "    top_recc(sorted_d)\n",
    "    \n",
    "final = dict()\n",
    "final['timeofday'] = []\n",
    "final['image'] = []\n",
    "final['name'] = []\n",
    "final['location'] = []\n",
    "final['price'] = []\n",
    "final['rating'] = []\n",
    "final['category'] = []\n",
    "\n",
    "for i in range(1,(end_date - begin_date).days+1):\n",
    "    for j in range(2):\n",
    "        final['timeofday'].append('Morning')\n",
    "    for j in range(2):\n",
    "        final['timeofday'].append('Evening')\n",
    "\n",
    "syns1 = wordnet.synsets(\"evening\")\n",
    "syns2 = wordnet.synsets(\"night\")\n",
    "\n",
    "evening = [word.lemmas()[0].name() for word in syns1] + [word.lemmas()[0].name() for word in syns2]\n",
    "print(evening)\n",
    "for i in range(len(final['timeofday'])): \n",
    "    if i%4 == 0: \n",
    "        top_recc(with_url)\n",
    "    else:\n",
    "        print(final['timeofday'][i])\n",
    "        find_closest(final['location'][-1],final['timeofday'][i])"
   ]
  },
  {
   "cell_type": "code",
   "execution_count": 53,
   "metadata": {},
   "outputs": [
    {
     "data": {
      "application/vnd.jupyter.widget-view+json": {
       "model_id": "8ca7206fb1a74655bd73990830b1e36b",
       "version_major": 2,
       "version_minor": 0
      },
      "text/plain": [
       "Tab(children=(VBox(children=(HBox(children=(VBox(children=(HTML(value=\"<b><font color='orange'>MORNING</b>\"), …"
      ]
     },
     "metadata": {},
     "output_type": "display_data"
    }
   ],
   "source": [
    "days = (end_date - begin_date).days\n",
    "time = ['MORNING', 'EVENING']\n",
    "fields = ['NAME', 'CATEGORY', 'LOCATION', 'PRICE', 'RATING']\n",
    "recommendations = ['Recommendation 1:', 'Recommendation 2:']\n",
    "\n",
    "box_layout = Layout(justify_content='space-between',\n",
    "                    display='flex',\n",
    "                    flex_flow='row', \n",
    "                    align_items='stretch',\n",
    "                   )\n",
    "column_layout = Layout(justify_content='space-between',\n",
    "                    width='75%',\n",
    "                    display='flex',\n",
    "                    flex_flow='column', \n",
    "                   )\n",
    "tab = []\n",
    "for i in range(days):\n",
    "    images = final['image'][i*4:(i+1)*4]\n",
    "    images = [open(i, \"rb\").read() for i in images]\n",
    "    name = [re.sub('_',' ',i).capitalize() for i in final['name'][i*4:(i+1)*4]]\n",
    "    category = [re.sub('_',' ',i).capitalize() for i in final['category'][i*4:(i+1)*4]]\n",
    "    location = [\"(\"+str(i[0])+\",\"+str(i[1])+\")\" for i in final['location'][i*4:(i+1)*4]]\n",
    "    price = [str(i) for i in final['price'][i*4:(i+1)*4]]\n",
    "    rating = [str(i) for i in final['rating'][i*4:(i+1)*4]]\n",
    "    tab.append(VBox(children=\n",
    "                    [HBox(children=\n",
    "                          [VBox(children=\n",
    "                                [widgets.HTML(value = f\"<b><font color='orange'>{time[0]}</b>\"),\n",
    "                                 widgets.HTML(value = f\"<b><font color='purple'>{recommendations[0]}</b>\"),\n",
    "                                 widgets.Image(value=images[0], format='jpg', width=300, height=400), \n",
    "                                 widgets.HTML(description=fields[0], value=f\"<b><font color='black'>{name[0]}</b>\", disabled=True), \n",
    "                                 widgets.HTML(description=fields[1], value=f\"<b><font color='black'>{category[0]}</b>\", disabled=True),\n",
    "                                 widgets.HTML(description=fields[2], value=f\"<b><font color='black'>{location[0]}</b>\", disabled=True), \n",
    "                                 widgets.HTML(description=fields[3], value=f\"<b><font color='black'>{price[0]}</b>\", disabled=True), \n",
    "                                 widgets.HTML(description=fields[4], value=f\"<b><font color='black'>{rating[0]}</b>\", disabled=True)\n",
    "                                ], layout=column_layout), \n",
    "                            VBox(children=\n",
    "                                [widgets.HTML(value = f\"<b><font color='orange'>{time[1]}</b>\"), \n",
    "                                 widgets.HTML(value = f\"<b><font color='purple'>{recommendations[0]}</b>\"),\n",
    "                                 widgets.Image(value=images[2], format='png', width=300, height=400), \n",
    "                                 widgets.HTML(description=fields[0], value=f\"<b><font color='black'>{name[2]}</b>\", disabled=True), \n",
    "                                 widgets.HTML(description=fields[1], value=f\"<b><font color='black'>{category[2]}</b>\", disabled=True),\n",
    "                                 widgets.HTML(description=fields[2], value=f\"<b><font color='black'>{location[2]}</b>\", disabled=True), \n",
    "                                 widgets.HTML(description=fields[3], value=f\"<b><font color='black'>{price[2]}</b>\", disabled=True), \n",
    "                                 widgets.HTML(description=fields[4], value=f\"<b><font color='black'>{rating[2]}</b>\", disabled=True)\n",
    "                                ], layout=column_layout)\n",
    "                          ], layout=box_layout),\n",
    "                     \n",
    "                     HBox(children=\n",
    "                          [VBox(children=\n",
    "                                [widgets.HTML(value = f\"<b><font color='purple'>{recommendations[1]}</b>\"),\n",
    "                                 widgets.Image(value=images[1], format='png', width=300, height=400), \n",
    "                                 widgets.HTML(description=fields[0], value=f\"<b><font color='black'>{name[1]}</b>\", disabled=True), \n",
    "                                 widgets.HTML(description=fields[1], value=f\"<b><font color='black'>{category[1]}</b>\", disabled=True),\n",
    "                                 widgets.HTML(description=fields[2], value=f\"<b><font color='black'>{location[1]}</b>\", disabled=True), \n",
    "                                 widgets.HTML(description=fields[3], value=f\"<b><font color='black'>{price[1]}</b>\", disabled=True), \n",
    "                                 widgets.HTML(description=fields[4], value=f\"<b><font color='black'>{rating[1]}</b>\", disabled=True)\n",
    "                                ], layout=column_layout), \n",
    "                            VBox(children=\n",
    "                                [widgets.HTML(value = f\"<b><font color='purple'>{recommendations[1]}</b>\"),\n",
    "                                 widgets.Image(value=images[3], format='png', width=300, height=400), \n",
    "                                 widgets.HTML(description=fields[0], value=f\"<b><font color='black'>{name[3]}</b>\", disabled=True), \n",
    "                                 widgets.HTML(description=fields[1], value=f\"<b><font color='black'>{category[3]}</b>\", disabled=True),\n",
    "                                 widgets.HTML(description=fields[2], value=f\"<b><font color='black'>{location[3]}</b>\", disabled=True), \n",
    "                                 widgets.HTML(description=fields[3], value=f\"<b><font color='black'>{price[3]}</b>\", disabled=True), \n",
    "                                 widgets.HTML(description=fields[4], value=f\"<b><font color='black'>{rating[3]}</b>\", disabled=True)\n",
    "                                ], layout=column_layout),\n",
    "                          ], layout=box_layout)\n",
    "                    \n",
    "                    ]))\n",
    "    \n",
    "tab_recc = widgets.Tab(children=tab)\n",
    "for i in range(len(tab_recc.children)):\n",
    "    tab_recc.set_title(i, str('Day '+ str(i+1)))\n",
    "tab_recc"
   ]
  }
 ],
 "metadata": {
  "hide_input": false,
  "kernelspec": {
   "display_name": "Python 3",
   "language": "python",
   "name": "python3"
  },
  "language_info": {
   "codemirror_mode": {
    "name": "ipython",
    "version": 3
   },
   "file_extension": ".py",
   "mimetype": "text/x-python",
   "name": "python",
   "nbconvert_exporter": "python",
   "pygments_lexer": "ipython3",
   "version": "3.7.2"
  }
 },
 "nbformat": 4,
 "nbformat_minor": 2
}
