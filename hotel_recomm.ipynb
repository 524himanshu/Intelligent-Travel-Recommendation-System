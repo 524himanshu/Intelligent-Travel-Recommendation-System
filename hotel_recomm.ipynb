{
 "cells": [
  {
   "cell_type": "code",
   "execution_count": 55,
   "metadata": {},
   "outputs": [],
   "source": [
    "import pandas as pd\n",
    "import numpy as np\n",
    "import pyspark\n",
    "from pyspark.sql import SQLContext, functions, types\n",
    "from pyspark.ml.recommendation import ALS, ALSModel\n",
    "from pyspark.ml.evaluation import RegressionEvaluator\n",
    "from pyspark.ml.feature import StringIndexer\n",
    "from pyspark.sql import Row\n",
    "from geopy.geocoders import Nominatim"
   ]
  },
  {
   "cell_type": "code",
   "execution_count": 11,
   "metadata": {},
   "outputs": [],
   "source": [
    "sc=pyspark.SparkContext(appName=\"project\")\n",
    "spark = SQLContext(sc)"
   ]
  },
  {
   "cell_type": "code",
   "execution_count": 12,
   "metadata": {},
   "outputs": [
    {
     "name": "stdout",
     "output_type": "stream",
     "text": [
      "+--------------------+--------------------+-------+----------------+--------------------+------------+----+--------------------+-----+\n",
      "|             address|           amenities|country|hotel_experience|          hotel_name|hotel_rating|  id|            location|price|\n",
      "+--------------------+--------------------+-------+----------------+--------------------+------------+----+--------------------+-----+\n",
      "|4359 Main St Whis...|                [[]]| Canada|            null|Summit Lodge Bout...|         NaN|  26|(50.1171903, -122...|  NaN|\n",
      "|15 rue Sault-au-M...|[['Free High Spee...| Canada|       Excellent|     Hotel Le Priori|         4.5|  29|(52.4760892, -71....|159.0|\n",
      "|4801 Chemin St-Cy...|[['Pool',  'Free ...| Canada|       Very good|Blueberry Lake Re...|         4.0| 474|(52.4760892, -71....|  NaN|\n",
      "|161 Lower Ganges ...|[['Free Internet'...| Canada|         Average|Ganges Marina and...|         2.5| 964|(48.8533169, -123...|  NaN|\n",
      "|760 Arthur St W T...|[['Pool',  'Free ...| Canada|       Excellent|Hampton Inn & Sui...|         4.5|1677|(48.3807093522627...|  NaN|\n",
      "|321 Hodder Ave Th...|                [[]]| Canada|            null|         A & K Motel|         NaN|1697|(48.4618721875, -...|  NaN|\n",
      "|697 Wellington Ro...|                [[]]| Canada|            null|       Super 7 Motel|         NaN|1806|(42.824711, -81.2...| 60.0|\n",
      "|3 Canal St East O...|[['Free parking',...| Canada|       Excellent|  New Rockland Motel|         4.5|1950|(42.2661898, -82....|  NaN|\n",
      "|1919 Saskatchewan...|[['Pool',  'Resta...| Canada|       Very good|Delta Hotels by M...|         4.0|2040|(50.4518239, -104...|125.0|\n",
      "|       1905 Main St |                [[]]| Canada|            null|         J & R Motel|         1.5|2214|      ('nil', 'nil')| 67.0|\n",
      "|     363 James St S |                [[]]| Canada|            null|  James Street Manor|         NaN|2250|(43.2465629, -79....|  NaN|\n",
      "|    1500 Island Hwy |                [[]]| Canada|            null|       Quinsam Hotel|         1.0|2453|(48.4530824245675...|  NaN|\n",
      "|1380 Clearwater 1...|[['Free parking',...| Canada|       Excellent|    Star Lake Resort|         5.0|2509|(55.001251, -125....|  NaN|\n",
      "|39 King St Saint ...|[['Pool',  'Free ...| Canada|       Very good|Delta Hotels by M...|         4.0|2529|(45.2733517, -66....|129.0|\n",
      "|20 Bailey Drive F...|[['Free parking',...| Canada|       Very good|UNB Fredericton S...|         3.5|2927|(45.94595045, -66...|  NaN|\n",
      "|3595 Apple Way Bl...|[['Free parking',...| Canada|       Excellent|       Bedsyde Manor|         4.5|3091|(49.8356611, -119...|  NaN|\n",
      "|1515 Chemin de St...|[['Free parking',...| Canada|       Excellent|      Aux Traditions|         5.0|3506|(46.691254745, -7...|  NaN|\n",
      "|10187 View St Che...|                [[]]| Canada|            null|Island Serenity C...|         NaN|4590|(48.9350731, -123...|  NaN|\n",
      "|5006 Fairmont Fro...|[['Free parking',...| Canada|       Excellent|Marble Canyon & T...|         4.5|4823|(55.001251, -125....|  NaN|\n",
      "|3105 Chemin Capel...|[['Free parking',...| Canada|       Excellent|       Le Cachet B&B|         5.0|4894|(45.2792479520547...|130.0|\n",
      "+--------------------+--------------------+-------+----------------+--------------------+------------+----+--------------------+-----+\n",
      "only showing top 20 rows\n",
      "\n"
     ]
    }
   ],
   "source": [
    "h_df = pd.read_json('dataset/hotel_info.json')\n",
    "h1_df = spark.createDataFrame(h_df)\n",
    "h1_df.createOrReplaceTempView('h1_df')\n",
    "\n",
    "temp=spark.sql(\"SELECT df.id FROM (SELECT id, COUNT(*) as tot_count FROM h1_df GROUP BY id ORDER BY tot_count DESC) df WHERE df.tot_count>1\")\n",
    "temp.createOrReplaceTempView('temp')\n",
    "del_dup = spark.sql(\"SELECT h1_df.* FROM h1_df LEFT JOIN temp ON h1_df.id == temp.id WHERE temp.id IS NULL\")\n",
    "del_dup.createOrReplaceTempView('del_dup')\n",
    "\n",
    "del_dup = del_dup.withColumn(\"amenities\", functions.split(del_dup[\"amenities\"], \",\").cast(\"array<string>\"))\n",
    "del_dup.createOrReplaceTempView('del_dup')\n",
    "\n",
    "newh_df  = spark.sql(\"SELECT id,explode(amenities) as amenities FROM del_dup\")\n",
    "newh_df.createOrReplaceTempView('newh_df')\n",
    "\n",
    "newh1_df  = spark.sql(\"SELECT amenities,COUNT(amenities) AS tot_count FROM newh_df GROUP BY amenities ORDER BY tot_count DESC\")\n",
    "newh1_df.createOrReplaceTempView('newh1_df')\n",
    "\n",
    "# spark.sql(\"SELECT address FROM del_dup\").head()\n",
    "del_dup.show()"
   ]
  },
  {
   "cell_type": "code",
   "execution_count": 13,
   "metadata": {},
   "outputs": [
    {
     "name": "stdout",
     "output_type": "stream",
     "text": [
      "+----+--------------------+---------+\n",
      "|  id|           amenities|ameni_len|\n",
      "+----+--------------------+---------+\n",
      "|  34|[['Pool',  'Free ...|        5|\n",
      "|2489|[['Pool',  'Free ...|        5|\n",
      "| 155|[['Pool',  'Free ...|        5|\n",
      "|4161|[['Pool',  'Free ...|        5|\n",
      "|1711|[['Pool',  'Free ...|        5|\n",
      "|5208|[['Pool',  'Free ...|        5|\n",
      "|1882|[['Restaurant',  ...|        5|\n",
      "|3061|[['Restaurant',  ...|        5|\n",
      "|1055|[['Pool',  'Free ...|        5|\n",
      "|5871|[['Restaurant',  ...|        5|\n",
      "|  22|[['Pool',  'Room ...|        5|\n",
      "|1241|[['Pool',  'Free ...|        5|\n",
      "|5846|[['Pool',  'Free ...|        5|\n",
      "| 385|[['Pool',  'Free ...|        5|\n",
      "|5915|[['Pool',  'Room ...|        5|\n",
      "|4519|[['Pool',  'Room ...|        5|\n",
      "| 938|[['Restaurant',  ...|        5|\n",
      "|2906|[['Pool',  'Free ...|        5|\n",
      "|3069|[['Pool',  'Free ...|        5|\n",
      "|1480|[['Pool',  'Free ...|        5|\n",
      "+----+--------------------+---------+\n",
      "only showing top 20 rows\n",
      "\n"
     ]
    }
   ],
   "source": [
    "amenities_pref = [\" 'Non-smoking hotel'\",\" 'Air conditioning'\",\" 'Free parking'\",\" 'Pets Allowed ( Dog / Pet Friendly )'\",\" 'Free High Speed Internet (WiFi)'\"]\n",
    "\n",
    "pa_df = pd.DataFrame(amenities_pref,columns=[\"amenities_pref\"])\n",
    "\n",
    "a_df = spark.createDataFrame(pa_df)\n",
    "a_df.createOrReplaceTempView('a_df')\n",
    "\n",
    "newa_df  = spark.sql(\"SELECT * FROM newh_df INNER JOIN a_df WHERE newh_df.amenities=a_df.amenities_pref\")\n",
    "\n",
    "ameni_comb = newa_df.groupBy(functions.col(\"id\")).agg(functions.collect_list(functions.col(\"amenities\")).alias(\"amenities\"))\n",
    "amenities_len=ameni_comb.withColumn(\"ameni_len\",functions.size(ameni_comb[\"amenities\"])).orderBy(functions.col(\"ameni_len\"), ascending=False)\n",
    "amenities_len.createOrReplaceTempView(\"amenities_len\")\n",
    "\n",
    "ameni_df = spark.sql(\"SELECT a.id,h.amenities,a.ameni_len FROM del_dup h INNER JOIN amenities_len a WHERE h.id=a.id ORDER BY a.ameni_len DESC\")\n",
    "ameni_df.show()"
   ]
  },
  {
   "cell_type": "code",
   "execution_count": 14,
   "metadata": {},
   "outputs": [],
   "source": [
    "def get_rating(x):\n",
    "    val = x / 5\n",
    "    if x >= 0 and x <= val:\n",
    "        return 1\n",
    "    elif x > val and x <= 2*val:\n",
    "        return 2\n",
    "    elif x > 2*val and x <= 3*val:\n",
    "        return 3\n",
    "    elif x > 3*val and x <= 4*val:\n",
    "        return 4\n",
    "    else:\n",
    "        return 5\n",
    "\n",
    "find_rating = functions.udf(lambda a: get_rating(a), types.IntegerType())\n",
    "\n",
    "usr_rating = ameni_df.withColumn(\"rating\",find_rating(\"ameni_len\"))\n",
    "# usr_rating.show()"
   ]
  },
  {
   "cell_type": "code",
   "execution_count": 15,
   "metadata": {},
   "outputs": [],
   "source": [
    "df = pd.read_json('dataset/reviews.json')\n",
    "# df=df.iloc[:500,:]\n",
    "\n",
    "# df[\"user_id\"]=df.user_name.astype(\"category\").cat.codes\n",
    "df[\"att_id\"]=df.id.astype('category').cat.codes\n",
    "# df.head()\n",
    "\n",
    "rev_df = spark.createDataFrame(df)\n",
    "rev_df.createOrReplaceTempView('rev_df')\n",
    "\n",
    "rev_temp=spark.sql(\"SELECT df.id FROM (SELECT id, COUNT(*) as tot_count FROM rev_df GROUP BY id ORDER BY tot_count DESC) df WHERE df.tot_count>1\")\n",
    "rev_temp.createOrReplaceTempView('rev_temp')\n",
    "\n",
    "s_df = spark.sql(\"SELECT rev_df.* FROM rev_df LEFT JOIN rev_temp ON rev_df.id == rev_temp.id WHERE rev_temp.id IS NULL\")\n",
    "s_df.createOrReplaceTempView('s_df')\n",
    "\n",
    "# s_df.select(\"user_name\").distinct().count()\n",
    "\n",
    "#String Indexing user_name \n",
    "indexer = StringIndexer(inputCol=\"user_name\", outputCol=\"user_id\")\n",
    "indexed = indexer.fit(s_df).transform(s_df)\n",
    "u_id_df = indexed.withColumn(\"user_id\",indexed[\"user_id\"].cast(\"Int\"))\n",
    "u_id_df.createOrReplaceTempView('u_id_df')\n",
    "\n",
    "uid_count = u_id_df.select(\"user_id\").distinct().count()\n",
    "\n",
    "# spark.sql(\"SELECT price FROM s_df\").show()\n",
    "# String Indexing id \n",
    "# str_in = StringIndexer(inputCol=\"id\", outputCol=\"att_id\",stringOrderType='frequencyAsc')\n",
    "# att_indexed = str_in.fit(u_id_df).transform(u_id_df)\n",
    "# att_id_df = att_indexed.withColumn(\"att_id\",indexed[\"id\"].cast(\"Int\"))\n",
    "# att_id_df.createOrReplaceTempView('att_id_df')"
   ]
  },
  {
   "cell_type": "code",
   "execution_count": 16,
   "metadata": {},
   "outputs": [],
   "source": [
    "usrid_df = usr_rating.withColumn(\"usr_id\", functions.lit(uid_count)).join(u_id_df.select([\"id\",\"att_id\"]), \"id\")\n",
    "# usrid_df.show()\n",
    "\n",
    "usrid_final_df = usrid_df.select(usrid_df[\"usr_id\"].alias(\"user_id\"),usrid_df[\"att_id\"].alias(\"att_id\"),usrid_df[\"rating\"].alias(\"user_rating\"))\n",
    "\n",
    "org_df = u_id_df.select(\"user_id\",\"att_id\",\"user_rating\")\n",
    "\n",
    "(usrid_s1, usrid_s2) = usrid_final_df.randomSplit([0.1,0.9])\n",
    "\n",
    "comb_df = org_df.union(usrid_s1)\n",
    "# comb_df.show()\n",
    "\n",
    "# print(usrid_final_df.count())"
   ]
  },
  {
   "cell_type": "code",
   "execution_count": 17,
   "metadata": {
    "scrolled": true
   },
   "outputs": [],
   "source": [
    "(training,validation) = comb_df.randomSplit([0.8,0.2])\n",
    "# training.show()"
   ]
  },
  {
   "cell_type": "code",
   "execution_count": 18,
   "metadata": {
    "scrolled": true
   },
   "outputs": [
    {
     "name": "stdout",
     "output_type": "stream",
     "text": [
      "rank :  4\n",
      "rank :  8\n",
      "rank :  12\n",
      "RMSE:5.227490484714508\n"
     ]
    }
   ],
   "source": [
    "ranks=[4,8,12]\n",
    "error = 20000\n",
    "for i in ranks:\n",
    "    als = ALS(maxIter=5,regParam=0.01,rank=i,userCol=\"user_id\",itemCol=\"att_id\",ratingCol=\"user_rating\",coldStartStrategy=\"drop\")\n",
    "    model = als.fit(training)\n",
    "    predictions = model.transform(validation)\n",
    "    evaluator = RegressionEvaluator(metricName=\"rmse\",labelCol=\"user_rating\",predictionCol=\"prediction\")\n",
    "    rmse = evaluator.evaluate(predictions)\n",
    "    if rmse < error:\n",
    "        model.write().overwrite().save(\"model_file\")\n",
    "        print(\"rank : \",i)\n",
    "        error = rmse        \n",
    "print(\"RMSE:\" +str(rmse))"
   ]
  },
  {
   "cell_type": "code",
   "execution_count": null,
   "metadata": {},
   "outputs": [],
   "source": []
  },
  {
   "cell_type": "code",
   "execution_count": 19,
   "metadata": {},
   "outputs": [],
   "source": [
    "comb_df.createOrReplaceTempView('comb_df')\n",
    "# new_df  = spark.sql(\"SELECT DISTINCT att_id FROM comb_df WHERE user_id != \").withColumn('user_id', functions.lit(13))\n",
    "\n",
    "als_model = ALSModel.load(\"model_file\")\n",
    "\n",
    "user = usrid_s2.select(\"user_id\").distinct()\n",
    "recomm = als_model.recommendForUserSubset(user,50)\n",
    "recomm.createOrReplaceTempView('recomm')\n",
    "\n",
    "recomm_df  = spark.sql(\"SELECT user_id,explode(recommendations) as recommendations FROM recomm\")\n",
    "recomm_df.createOrReplaceTempView('recomm_df')\n",
    "\n",
    "# als_model.recommendForUserSubset().show()\n",
    "# predictions = als_model.transform(new_df)\n",
    "# predictions.show()\n",
    "# als_model.rank\n",
    "\n",
    "# spark.sql(\"SELECT amenities FROM h1_df WHERE id=1886\").head()"
   ]
  },
  {
   "cell_type": "code",
   "execution_count": 20,
   "metadata": {},
   "outputs": [],
   "source": [
    "get_attid = recomm_df.withColumn(\"att_id\",functions.col(\"recommendations.att_id\")).withColumn(\"rating\",functions.col(\"recommendations.rating\"))\n",
    "get_attid.createOrReplaceTempView(\"get_attid\")"
   ]
  },
  {
   "cell_type": "code",
   "execution_count": 21,
   "metadata": {},
   "outputs": [
    {
     "name": "stdout",
     "output_type": "stream",
     "text": [
      "+-------+-----------------+------+---------+\n",
      "|user_id|  recommendations|att_id|   rating|\n",
      "+-------+-----------------+------+---------+\n",
      "|    111|[1008, 5.0016727]|  1008|5.0016727|\n",
      "|    111| [1886, 5.000766]|  1886| 5.000766|\n",
      "|    111|[1892, 5.0007486]|  1892|5.0007486|\n",
      "|    111|[1776, 5.0002627]|  1776|5.0002627|\n",
      "|    111| [1882, 5.000224]|  1882| 5.000224|\n",
      "|    111| [4409, 4.999789]|  4409| 4.999789|\n",
      "|    111| [2173, 4.999357]|  2173| 4.999357|\n",
      "|    111| [2403, 4.994175]|  2403| 4.994175|\n",
      "|    111| [3638, 4.994175]|  3638| 4.994175|\n",
      "|    111| [4428, 4.994175]|  4428| 4.994175|\n",
      "|    111| [3797, 4.994175]|  3797| 4.994175|\n",
      "|    111| [4263, 4.994175]|  4263| 4.994175|\n",
      "|    111| [233, 2.8649304]|   233|2.8649304|\n",
      "|    111| [2539, 2.763423]|  2539| 2.763423|\n",
      "|    111|[2544, 2.7600944]|  2544|2.7600944|\n",
      "|    111|[4305, 2.4885278]|  4305|2.4885278|\n",
      "|    111|[4299, 2.0183158]|  4299|2.0183158|\n",
      "|    111|[2179, 1.9328883]|  2179|1.9328883|\n",
      "|    111|  [617, 1.635478]|   617| 1.635478|\n",
      "|    111|[2181, 1.5938294]|  2181|1.5938294|\n",
      "+-------+-----------------+------+---------+\n",
      "only showing top 20 rows\n",
      "\n",
      "+----+--------------------+--------------------+-----------+--------------------+---------------+---------------+------+-------+\n",
      "|  id|           user_name|        user_profile|user_rating|         user_review|user_reviewdate|  user_staydate|att_id|user_id|\n",
      "+----+--------------------+--------------------+-----------+--------------------+---------------+---------------+------+-------+\n",
      "|2570|        MikeBCalgary|https://www.tripa...|          3|Beautiful local B...|      Sep. 2016|    August 2016|  1872|     68|\n",
      "|2371|         Catherine M|https://www.tripa...|          5|Wonderful B+B and...|      Aug. 2015|    August 2015|  1738|     23|\n",
      "|5888|         bigman66544|https://www.tripa...|          4|Large property fo...|      Jul. 2016|      July 2016|  4318|     13|\n",
      "|2355|              ygg264|https://www.tripa...|          5|10/10, nothing to...|      Oct. 2018| September 2018|  1725|     40|\n",
      "|2535|              Ann622|https://www.tripa...|          3|An option for an ...|      Oct. 2017| September 2017|  1848|     80|\n",
      "|5693|           scooper47|https://www.tripa...|          4|Nice Stay in a Bi...|      Aug. 2016|      June 2016|  4191|     11|\n",
      "|5823|          Mccleave N|https://www.tripa...|          4|Was OK The first ...|      Oct. 2013|   October 2013|  4278|    108|\n",
      "| 830|             sally2u|https://www.tripa...|          5|If you love chees...|      Nov. 2017|  November 2017|   613|     31|\n",
      "|1445|         scoobasteve|https://www.tripa...|          4|Clean, Affordable...|      Jun. 2010|       May 2010|  1040|     52|\n",
      "|6043|        Kawartha Ron|https://www.tripa...|          4|Well Satisfied Fo...|      Feb. 2016|  February 2016|  4409|    104|\n",
      "|1210|          twoinmaine|https://www.tripa...|          3|Basic Lodging on ...|      Feb. 2019|    August 2018|   873|      0|\n",
      "|4933|             Lorne F|https://www.tripa...|          4|What one would ex...|      Aug. 2018|    August 2018|  3666|     97|\n",
      "|2021|           Emmesey D|https://www.tripa...|          3|OK place to sleep...|      Jan. 2015|      July 2014|  1481|     27|\n",
      "|4034|A TripAdvisor Member|https://www.tripa...|          5|Excellent stay Sh...|        Mar. 22|     March 2019|  2979|     69|\n",
      "|4125|             Barry G|https://www.tripa...|          5|It never fails to...|      Jan. 2019|   January 2019|  3068|     46|\n",
      "|4185|              Nick R|https://www.tripa...|          5|A wonderful weeke...|      Feb. 2019|  February 2019|  3114|     17|\n",
      "| 845|         TLC05172010|https://www.tripa...|          1|Awful We booked t...|      Aug. 2018|    August 2018|   623|     95|\n",
      "|2745|           Stephen H|https://www.tripa...|          5|Excellent Value T...|      Sep. 2014| September 2014|  2008|    109|\n",
      "|5796|      _maureen_morin|https://www.tripa...|          5|You'll be treated...|      Jun. 2016|      July 2015|  4263|     81|\n",
      "|4321|            Fguptill|https://www.tripa...|          5|Super clean, grea...|      Jun. 2016|      June 2016|  3217|      6|\n",
      "+----+--------------------+--------------------+-----------+--------------------+---------------+---------------+------+-------+\n",
      "only showing top 20 rows\n",
      "\n"
     ]
    }
   ],
   "source": [
    "get_attid.show()\n",
    "u_id_df.show()"
   ]
  },
  {
   "cell_type": "code",
   "execution_count": 22,
   "metadata": {},
   "outputs": [],
   "source": [
    "u_tempdf = spark.sql(\"SELECT u_id_df.id FROM u_id_df INNER JOIN get_attid on u_id_df.att_id=get_attid.att_id\")\n",
    "u_tempdf.createOrReplaceTempView('u_tempdf')"
   ]
  },
  {
   "cell_type": "code",
   "execution_count": 23,
   "metadata": {},
   "outputs": [],
   "source": [
    "hotel_df = spark.sql(\"SELECT h1_df.* FROM h1_df INNER JOIN u_tempdf ON h1_df.id = u_tempdf.id\")"
   ]
  },
  {
   "cell_type": "code",
   "execution_count": 24,
   "metadata": {},
   "outputs": [
    {
     "name": "stdout",
     "output_type": "stream",
     "text": [
      "+--------------------+--------------------+-------+----------------+--------------------+------------+----+--------------------+-----+\n",
      "|             address|           amenities|country|hotel_experience|          hotel_name|hotel_rating|  id|            location|price|\n",
      "+--------------------+--------------------+-------+----------------+--------------------+------------+----+--------------------+-----+\n",
      "|315 route 132 Es ...|                  []| Canada|            null|Camp de Base Coin...|         NaN|2570|(52.4760892, -71....|  NaN|\n",
      "|444 chemin La Bal...|['Free parking', ...| Canada|       Very good|Hotel Cap-aux-Pie...|         3.5|5888|(52.4760892, -71....|  NaN|\n",
      "|32 Rte 111 E La S...|['Restaurant', 'B...| Canada|       Very good|Motel Villa mon r...|         3.5|6043|(48.8017705, -79....|  NaN|\n",
      "|650 King St E Gan...|                  []| Canada|            null|Quality Inn & Sui...|         NaN|4034|(44.3369303319149...|  NaN|\n",
      "|2960 King St E Ki...|['Free parking', ...| Canada|       Very good|Radisson Hotel Ki...|         4.0|4034|(43.4292532, -80....|  NaN|\n",
      "|          6 Quebec G|['Free parking', ...| Canada|       Excellent|   Le gite chez Majo|         5.0|5796|(33.5739660416667...|  NaN|\n",
      "|122 Trois-Riviere...|['Free parking', ...| Canada|       Very good|Appart Hotel Troi...|         4.0|2740|(46.3507999, -72....| 88.0|\n",
      "|3985 Albert Mines...|['Pool', 'Free pa...| Canada|       Excellent|Lecomte de la Fon...|         5.0|4898|(52.4760892, -71....|100.0|\n",
      "|                    |['Free parking', ...| Canada|       Very good|Auberge la Seigne...|         4.0|4748|      ('nil', 'nil')|  NaN|\n",
      "|2221 rang Versail...|['Spa', 'Pool', '...| Canada|       Excellent|      Gite Le Vallon|         5.0|5125|(46.2789311, -73....|  NaN|\n",
      "|  213 Chambly Quebec|['Air conditioning']| Canada|       Very good|A la Claire Fontaine|         3.5|5967|(45.4473898, -73....|  NaN|\n",
      "|38 Lakeport Rd St...|['Restaurant', 'N...| Canada|       Very good|    Harbourfront Inn|         3.5|3485|(43.202697, -79.2...|  NaN|\n",
      "|                    |['Pool', 'Free Hi...| Canada|       Very good|Motel Le Radisson...|         3.5|4643|      ('nil', 'nil')|  NaN|\n",
      "|1 Rue Therrien Ta...|['Free parking', ...| Canada|       Excellent|Chalet de la Mont...|         4.5|3314|(52.4760892, -71....|  NaN|\n",
      "|920 Island Hwy S ...|['Free parking', ...| Canada|       Very good|       Vista Del Mar|         3.5|2435|(50.0249556, -125...| 74.0|\n",
      "|201 5e Avenue Quebec|['Pool', 'Free Hi...| Canada|       Excellent| Gite Au Petit Louis|         5.0|3521|(45.763346, -73.8...| 85.0|\n",
      "|714 de la Piscicu...|['Free parking', ...| Canada|       Very good|Gite de la Piscic...|         4.0| 460|(52.4760892, -71....| 95.0|\n",
      "|101 Centre St Ass...|['Free parking', ...| Canada|       Very good|Franklin Hotel & ...|         3.5|5698|(60.1840566, 24.9...|  NaN|\n",
      "|Western Universit...|                  []| Canada|            null|Western Summer Ac...|         NaN|1815|(43.01047375, -81...|  NaN|\n",
      "|28 Avenue St-Patr...|['Free parking', ...| Canada|       Very good|Auberge De Dougla...|         3.5|2964|(48.7628823, -64....| 70.0|\n",
      "+--------------------+--------------------+-------+----------------+--------------------+------------+----+--------------------+-----+\n",
      "only showing top 20 rows\n",
      "\n"
     ]
    }
   ],
   "source": [
    "hotel_df.show()\n",
    "# hotel_df.createOrReplaceTempView(\"hotel_df\")\n",
    "# spark.sql(\"select address from hotel_df\").head(10)"
   ]
  },
  {
   "cell_type": "code",
   "execution_count": 25,
   "metadata": {},
   "outputs": [
    {
     "name": "stdout",
     "output_type": "stream",
     "text": [
      "+--------------------+--------------------+-------+----------------+--------------------+------------+----+--------------------+-----+\n",
      "|             address|           amenities|country|hotel_experience|          hotel_name|hotel_rating|  id|            location|price|\n",
      "+--------------------+--------------------+-------+----------------+--------------------+------------+----+--------------------+-----+\n",
      "|650 king st e gan...|                  []| Canada|            null|Quality Inn & Sui...|         NaN|4034|(44.3369303319149...|  NaN|\n",
      "|2960 king st e ki...|['Free parking', ...| Canada|       Very good|Radisson Hotel Ki...|         4.0|4034|(43.4292532, -80....|  NaN|\n",
      "|38 lakeport rd st...|['Restaurant', 'N...| Canada|       Very good|    Harbourfront Inn|         3.5|3485|(43.202697, -79.2...|  NaN|\n",
      "|western universit...|                  []| Canada|            null|Western Summer Ac...|         NaN|1815|(43.01047375, -81...|  NaN|\n",
      "|1090 shamrock roa...|['Pool', 'Free pa...| Canada|       Excellent|      Shamrock Lodge|         5.0|4165|(42.9226806, -81....|  NaN|\n",
      "|413 lakeshore rd ...|['Free parking', ...| Canada|       Excellent|  Cosy Cove Cottages|         5.0| 835|(45.7316283, -82....|  NaN|\n",
      "+--------------------+--------------------+-------+----------------+--------------------+------------+----+--------------------+-----+\n",
      "\n"
     ]
    }
   ],
   "source": [
    "user_location = 'ontario'\n",
    "hotel_df = hotel_df.withColumn(\"address\",functions.lower(functions.col(\"address\")))\n",
    "hotel_sugg = hotel_df.where(hotel_df.address.contains(user_location))\n",
    "hotel_sugg.show()"
   ]
  },
  {
   "cell_type": "code",
   "execution_count": 64,
   "metadata": {},
   "outputs": [
    {
     "data": {
      "text/plain": [
       "[Row(location='(44.3369303319149, -76.1513494617021)'),\n",
       " Row(location='(43.4292532, -80.4334451413477)'),\n",
       " Row(location='(43.202697, -79.265495)'),\n",
       " Row(location='(43.01047375, -81.2698784900773)'),\n",
       " Row(location='(42.9226806, -81.2275131)')]"
      ]
     },
     "execution_count": 64,
     "metadata": {},
     "output_type": "execute_result"
    }
   ],
   "source": [
    "prices = [i[0] for i in hotel_sugg.select(\"price\").dropna().collect()]\n",
    "if(len(prices) == 0):\n",
    "    over_prices = [i[0] for i in hotel_df.select(\"price\").dropna().collect()]\n",
    "    avg_price = sum(over_prices)/len(over_prices)\n",
    "else:\n",
    "    avg_price = sum(prices)/len(prices)\n",
    "avg_price_df = hotel_sugg.withColumn('price',functions.when(functions.isnan(functions.col(\"price\")), functions.lit(avg_price)).otherwise(functions.col(\"price\")))\n",
    "avg_price_df.dropna()#.show()\n",
    "avg_price_df.createOrReplaceTempView(\"avg_price_df\")\n",
    "spark.sql(\"select location from avg_price_df\").head(5)\n",
    "# avg_price_df.printSchema()"
   ]
  },
  {
   "cell_type": "code",
   "execution_count": 86,
   "metadata": {},
   "outputs": [],
   "source": [
    "geolocator = Nominatim(user_agent=\"hotel_recomm\")\n",
    "\n",
    "def get_cname(x):\n",
    "    str_split = x.split(\",\")\n",
    "    location = geolocator.reverse(str_split[0][1:]+', '+str_split[1][:-1])\n",
    "    if 'city' in location.raw[\"address\"]:\n",
    "        return location.raw[\"address\"][\"city\"]\n",
    "    else:\n",
    "        return location.raw[\"address\"][\"town\"]\n",
    "    \n",
    "get_city = functions.udf(lambda a:get_cname(a),types.StringType())\n",
    "\n",
    "city_df = avg_price_df.withColumn(\"city\",get_city(functions.col(\"location\")))\n",
    "\n",
    "# location = geolocator.reverse(\"43.4292532, -80.4334451413477\")\n",
    "# if \"city\" in location.raw[\"address\"]:\n",
    "#     print (True)"
   ]
  },
  {
   "cell_type": "code",
   "execution_count": 89,
   "metadata": {},
   "outputs": [
    {
     "name": "stdout",
     "output_type": "stream",
     "text": [
      "+--------------------+--------------------+-------+----------------+--------------------+------------+----+--------------------+----------------+------------------+\n",
      "|             address|           amenities|country|hotel_experience|          hotel_name|hotel_rating|  id|            location|           price|              city|\n",
      "+--------------------+--------------------+-------+----------------+--------------------+------------+----+--------------------+----------------+------------------+\n",
      "|650 king st e gan...|                  []| Canada|            null|Quality Inn & Sui...|         NaN|4034|(44.3369303319149...|81.9090909090909|         Gananoque|\n",
      "|2960 king st e ki...|['Free parking', ...| Canada|       Very good|Radisson Hotel Ki...|         4.0|4034|(43.4292532, -80....|81.9090909090909|         Kitchener|\n",
      "|38 lakeport rd st...|['Restaurant', 'N...| Canada|       Very good|    Harbourfront Inn|         3.5|3485|(43.202697, -79.2...|81.9090909090909|    St. Catharines|\n",
      "|western universit...|                  []| Canada|            null|Western Summer Ac...|         NaN|1815|(43.01047375, -81...|81.9090909090909|            London|\n",
      "|1090 shamrock roa...|['Pool', 'Free pa...| Canada|       Excellent|      Shamrock Lodge|         5.0|4165|(42.9226806, -81....|81.9090909090909|            London|\n",
      "|413 lakeshore rd ...|['Free parking', ...| Canada|       Excellent|  Cosy Cove Cottages|         5.0| 835|(45.7316283, -82....|81.9090909090909|Central Manitoulin|\n",
      "+--------------------+--------------------+-------+----------------+--------------------+------------+----+--------------------+----------------+------------------+\n",
      "\n"
     ]
    }
   ],
   "source": [
    "city_df.show()"
   ]
  },
  {
   "cell_type": "code",
   "execution_count": null,
   "metadata": {},
   "outputs": [],
   "source": []
  }
 ],
 "metadata": {
  "kernelspec": {
   "display_name": "Python 3",
   "language": "python",
   "name": "python3"
  },
  "language_info": {
   "codemirror_mode": {
    "name": "ipython",
    "version": 3
   },
   "file_extension": ".py",
   "mimetype": "text/x-python",
   "name": "python",
   "nbconvert_exporter": "python",
   "pygments_lexer": "ipython3",
   "version": "3.6.6"
  }
 },
 "nbformat": 4,
 "nbformat_minor": 2
}
