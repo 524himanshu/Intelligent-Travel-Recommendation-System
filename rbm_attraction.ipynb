{
 "cells": [
  {
   "cell_type": "code",
   "execution_count": 1,
   "metadata": {
    "colab": {},
    "colab_type": "code",
    "id": "lupU-E6jF4rX"
   },
   "outputs": [],
   "source": [
    "import numpy as np\n",
    "from utils import Util\n",
    "from rbm import RBM\n",
    "from IPython.display import display as d"
   ]
  },
  {
   "cell_type": "code",
   "execution_count": 2,
   "metadata": {
    "colab": {
     "base_uri": "https://localhost:8080/",
     "height": 136
    },
    "colab_type": "code",
    "id": "ooF69zE8F4rg",
    "outputId": "5c92cb08-f1a0-47d4-c349-3f7adbe1b985",
    "scrolled": true
   },
   "outputs": [
    {
     "name": "stdout",
     "output_type": "stream",
     "text": [
      "Reading the data\n",
      "Extracting num_rows from ratings\n",
      "Preprocessing the dataset\n",
      "Free energy required, dividing into train and validation sets\n",
      "Total size of the data is: 661\n",
      "Size of the training data is: 495\n",
      "Size of the validation data is: 166\n"
     ]
    }
   ],
   "source": [
    "util = Util()\n",
    "dir = 'etl/'\n",
    "rows = 5000\n",
    "ratings, attractions = util.read_data(dir)\n",
    "ratings = util.clean_subset(ratings,rows)\n",
    "num_vis = len(ratings)\n",
    "free_energy = True\n",
    "train = util.preprocess(ratings)\n",
    "valid = None\n",
    "if free_energy:\n",
    "    train, valid = util.split_data(train)\n",
    "H = 128\n",
    "user = 1\n",
    "alpha = 0.01\n",
    "w = np.random.normal(loc=0, scale=0.01, size=[num_vis, H])\n",
    "rbm = RBM(alpha, H, num_vis)\n",
    "epochs = 10\n",
    "batch_size = 8\n",
    "\n",
    "v = True"
   ]
  },
  {
   "cell_type": "code",
   "execution_count": 3,
   "metadata": {
    "colab": {
     "base_uri": "https://localhost:8080/",
     "height": 340
    },
    "colab_type": "code",
    "id": "J5PJgwXUF4rr",
    "outputId": "5b2a0216-df9f-42bc-aff3-b05fc70aad11"
   },
   "outputs": [
    {
     "name": "stdout",
     "output_type": "stream",
     "text": [
      "Phase 1: Input Processing\n",
      "Phase 2: Reconstruction\n",
      "Creating the gradients\n",
      "Running the session\n",
      "Training RBM with 10 epochs and batch size: 8\n",
      "Starting the training process\n",
      "Error after 1 epochs is: 0.37796616554260254\n",
      "Error after 2 epochs is: 0.29551923274993896\n",
      "Error after 3 epochs is: 0.2067832350730896\n",
      "Error after 4 epochs is: 0.12404296547174454\n",
      "Error after 5 epochs is: 0.06539956480264664\n",
      "Error after 6 epochs is: 0.033254753798246384\n",
      "Error after 7 epochs is: 0.016620168462395668\n",
      "Error after 8 epochs is: 0.01030146237462759\n",
      "Error after 9 epochs is: 0.007628977298736572\n",
      "Error after 10 epochs is: 0.006325220689177513\n",
      "Exporting free energy plot\n",
      "Exporting errors vs epochs plot\n",
      "Model restored\n"
     ]
    }
   ],
   "source": [
    "filename = \"user\"+str(user)+\"_e\"+str(epochs)+\"_r\"+str(rows)+\"_lr\"+str(alpha)+\"_hu\"+str(H)+\"_bs\"+str(batch_size)\n",
    "reco, prv_w, prv_vb, prv_hb = rbm.training(train, valid, user, epochs, batch_size, free_energy, v, filename)\n",
    "reco_l, prv_w_l, prv_vb_l, prv_hb_l = rbm.load_predict(filename, train, user)"
   ]
  },
  {
   "cell_type": "code",
   "execution_count": 4,
   "metadata": {
    "colab": {
     "base_uri": "https://localhost:8080/",
     "height": 34
    },
    "colab_type": "code",
    "id": "yzzhmao2F4rz",
    "outputId": "8a66bfe7-603b-4281-a29a-9642a6933266"
   },
   "outputs": [
    {
     "name": "stdout",
     "output_type": "stream",
     "text": [
      "Model saved and loaded successfully\n"
     ]
    }
   ],
   "source": [
    "if np.all(prv_w == prv_w_l) and np.all(prv_vb == prv_vb_l) and np.all(prv_hb == prv_hb_l):\n",
    "    print (\"Model saved and loaded successfully\")"
   ]
  },
  {
   "cell_type": "code",
   "execution_count": 5,
   "metadata": {
    "colab": {
     "base_uri": "https://localhost:8080/",
     "height": 3247
    },
    "colab_type": "code",
    "id": "Lt77vmlwF4r7",
    "outputId": "39493c90-6c46-4386-b7ce-67a30af6d271",
    "scrolled": true
   },
   "outputs": [],
   "source": [
    "unseen, seen = rbm.calculate_scores(ratings, attractions, reco_l, user)\n",
    "rbm.export(unseen, seen, filename)"
   ]
  }
 ],
 "metadata": {
  "accelerator": "GPU",
  "colab": {
   "name": "rbm_attraction.ipynb",
   "provenance": [],
   "version": "0.3.2"
  },
  "kernelspec": {
   "display_name": "Python 3",
   "language": "python",
   "name": "python3"
  },
  "language_info": {
   "codemirror_mode": {
    "name": "ipython",
    "version": 3
   },
   "file_extension": ".py",
   "mimetype": "text/x-python",
   "name": "python",
   "nbconvert_exporter": "python",
   "pygments_lexer": "ipython3",
   "version": "3.7.2"
  }
 },
 "nbformat": 4,
 "nbformat_minor": 1
}
