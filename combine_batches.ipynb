{
 "cells": [
  {
   "cell_type": "code",
   "execution_count": 1,
   "metadata": {},
   "outputs": [],
   "source": [
    "from pyspark import SparkContext as sc\n",
    "from pyspark.sql import SQLContext\n",
    "from pyspark.sql import SparkSession, functions, types\n",
    "from IPython.display import display"
   ]
  },
  {
   "cell_type": "code",
   "execution_count": 2,
   "metadata": {},
   "outputs": [],
   "source": [
    "sc = sc(appName=\"attraction\")\n",
    "sqlContext = SQLContext(sc)\n",
    "spark = SparkSession.builder.appName('attraction dataset combiner').getOrCreate()"
   ]
  },
  {
   "cell_type": "code",
   "execution_count": 3,
   "metadata": {},
   "outputs": [],
   "source": [
    "det1 = 'outputs/attractions_details_batch1.json'\n",
    "det2 = 'outputs/attractions_details_batch2.json'\n",
    "rev1 = 'outputs/attractions_reviews_batch1.json'\n",
    "rev2 = 'outputs/attractions_reviews_batch2.json'"
   ]
  },
  {
   "cell_type": "code",
   "execution_count": 4,
   "metadata": {},
   "outputs": [],
   "source": [
    "det1_df = spark.read.json(det1)\n",
    "det2_df = spark.read.json(det2)"
   ]
  },
  {
   "cell_type": "code",
   "execution_count": 5,
   "metadata": {},
   "outputs": [
    {
     "name": "stdout",
     "output_type": "stream",
     "text": [
      "combined successfully!\n"
     ]
    }
   ],
   "source": [
    "det_joined = det1_df.union(det2_df)\n",
    "\n",
    "if det1_df.count() + det2_df.count() == det_joined.count():\n",
    "    print(\"combined successfully!\")\n",
    "else:\n",
    "    print(\"error in dataframe union!\")"
   ]
  },
  {
   "cell_type": "code",
   "execution_count": 6,
   "metadata": {},
   "outputs": [],
   "source": [
    "det_joined.write.parquet('outputs/attraction_details',mode='overwrite')"
   ]
  },
  {
   "cell_type": "code",
   "execution_count": 7,
   "metadata": {},
   "outputs": [],
   "source": [
    "rev1_df = spark.read.json(rev1)\n",
    "rev2_df = spark.read.json(rev2)"
   ]
  },
  {
   "cell_type": "code",
   "execution_count": 8,
   "metadata": {},
   "outputs": [
    {
     "name": "stdout",
     "output_type": "stream",
     "text": [
      "combined successfully!\n"
     ]
    }
   ],
   "source": [
    "rev_joined = rev1_df.union(rev2_df)\n",
    "\n",
    "if rev1_df.count() + rev2_df.count() == rev_joined.count():\n",
    "    print(\"combined successfully!\")\n",
    "else:\n",
    "    print(\"error in dataframe union!\")"
   ]
  },
  {
   "cell_type": "code",
   "execution_count": 9,
   "metadata": {},
   "outputs": [],
   "source": [
    "rev_joined.write.parquet('outputs/attraction_reviews',mode='overwrite')"
   ]
  },
  {
   "cell_type": "code",
   "execution_count": 13,
   "metadata": {},
   "outputs": [
    {
     "name": "stdout",
     "output_type": "stream",
     "text": [
      "3637\n",
      "+-------------+----------------+-------+--------------------+--------------------+------+----------------+------+\n",
      "|attraction_id|            city|country|            location|                name| price|        province|rating|\n",
      "+-------------+----------------+-------+--------------------+--------------------+------+----------------+------+\n",
      "|            0|       vancouver| canada|{\"lat\":49.1978322...|vancouver_city_si...|  80.0|british_columbia|   4.5|\n",
      "|            1|       vancouver| canada|{\"lat\":49.1978322...|vancouver_to_vict...| 210.0|british_columbia|   5.0|\n",
      "|            2|        montreal| canada|{\"lat\":45.5001458...|quebec_city_and_m...| 115.0|          quebec|   4.5|\n",
      "|            3|         toronto| canada|{\"lat\":43.6561507...|niagara_falls_day...| 169.0|         ontario|   5.0|\n",
      "|            4|   niagara_falls| canada|{\"lat\":43.0857136...|best_of_niagara_f...| 158.0|         ontario|   5.0|\n",
      "|            5|   niagara_falls| canada|{\"lat\":43.102436,...|niagara_falls_in_...|204.42|         ontario|   5.0|\n",
      "|            6|       vancouver| canada|{\"lat\":49.1978322...|whistler_small-gr...| 145.0|british_columbia|   5.0|\n",
      "|            7|   niagara_falls| canada|{\"lat\":43.0857136...|ultimate_niagara_...|317.42|         ontario|   5.0|\n",
      "|            8|vancouver_island| canada|                 nil|local_food,_craft...| 150.0|british_columbia|   5.0|\n",
      "|            9|       vancouver| canada|{\"lat\":49.2869235...|private_tour:_van...| 670.0|british_columbia|   5.0|\n",
      "|           10|   niagara_falls| canada|                 nil|private_custom-ma...| 139.0|         ontario|   5.0|\n",
      "|           11|       vancouver| canada|{\"lat\":48.4241277...|vancouver_seaplan...| 135.0|british_columbia|   5.0|\n",
      "|           12|   niagara_falls| canada|{\"lat\":43.1888394...|niagara_falls_gra...| 131.5|         ontario|   5.0|\n",
      "|           13|        whistler| canada|{\"lat\":49.1830074...|whistler_helicopt...|187.95|british_columbia|   5.0|\n",
      "|           14|   niagara_falls| canada|{\"lat\":43.1186039...|niagara_falls_hel...| 145.0|         ontario|   4.5|\n",
      "|           15|         toronto| canada|{\"lat\":43.632485,...|7-minute_helicopt...|123.18|         ontario|   4.5|\n",
      "|           16|       vancouver| canada|{\"lat\":48.4241277...|seaplane_flight_t...| 469.0|british_columbia|   5.0|\n",
      "|           17|   niagara_falls| canada|{\"lat\":43.0857136...|ultimate_niagara_...|317.42|         ontario|   5.0|\n",
      "|           18|   niagara_falls| canada|{\"lat\":43.1897478...|niagara_falls_air...| 129.0|         ontario|   5.0|\n",
      "|           19|         toronto| canada|                 nil|airliner_adventur...| 129.0|         ontario|  -1.0|\n",
      "+-------------+----------------+-------+--------------------+--------------------+------+----------------+------+\n",
      "only showing top 20 rows\n",
      "\n"
     ]
    }
   ],
   "source": [
    "print(det_joined.count())\n",
    "det_joined.show()"
   ]
  },
  {
   "cell_type": "code",
   "execution_count": 14,
   "metadata": {},
   "outputs": [
    {
     "name": "stdout",
     "output_type": "stream",
     "text": [
      "33925\n",
      "+-------------+------+--------------------+------------------+--------------------+\n",
      "|attraction_id|rating|              review|       review_date|                user|\n",
      "+-------------+------+--------------------+------------------+--------------------+\n",
      "|            0|   5.0|Another 'Dave' Gu...|    March 14, 2019|drew22perthaustralia|\n",
      "|            0|   5.0|Fantastic way to ...|     March 1, 2019|              marc_h|\n",
      "|            0|   5.0|This was a great ...| February 28, 2019|          maggiehand|\n",
      "|            0|   5.0|All the main attr...| December 19, 2018|     catherine255066|\n",
      "|            0|   5.0|Excellent Vancouv...| November 29, 2018|           gearjamkw|\n",
      "|            0|   5.0|Highlight of our ...| November 12, 2018|              jkfran|\n",
      "|            0|   5.0|It was worth taki...|  November 6, 2018|           cherylk16|\n",
      "|            0|   5.0|Great Guide. Our ...|  November 2, 2018|             attydan|\n",
      "|            0|   5.0|Better than Hop o...|  October 24, 2018|               eve_l|\n",
      "|            0|   5.0|Great city tour. ...|  October 12, 2018|      thomasbi1536rj|\n",
      "|            0|   5.0|Excellent to see ...|  October 11, 2018|           shirley_h|\n",
      "|            0|   5.0|Beautiful City - ...|September 27, 2018|         holleyannep|\n",
      "|            0|   5.0|Excellent overvie...|September 23, 2018|    joan_and_larry_m|\n",
      "|            0|   5.0|Vancouver overvie...|September 22, 2018|     flipper13357771|\n",
      "|            0|   4.0|Get to know Vanco...|September 21, 2018|  bluebellplasnewydd|\n",
      "|            0|   4.0|Good overview of ...|September 20, 2018|             david_p|\n",
      "|            0|   5.0|Great way to see ...|September 19, 2018|              barb_d|\n",
      "|            0|   5.0|A fantastic city ...|September 16, 2018|         jgilbert813|\n",
      "|            0|   3.0|Ok tour to kill t...|September 16, 2018|             poudre1|\n",
      "|            0|   5.0|Excellent tour re...|September 15, 2018| sweep123oxfordshire|\n",
      "+-------------+------+--------------------+------------------+--------------------+\n",
      "only showing top 20 rows\n",
      "\n"
     ]
    }
   ],
   "source": [
    "print(rev_joined.count())\n",
    "rev_joined.show()"
   ]
  }
 ],
 "metadata": {
  "kernelspec": {
   "display_name": "Python 3",
   "language": "python",
   "name": "python3"
  },
  "language_info": {
   "codemirror_mode": {
    "name": "ipython",
    "version": 3
   },
   "file_extension": ".py",
   "mimetype": "text/x-python",
   "name": "python",
   "nbconvert_exporter": "python",
   "pygments_lexer": "ipython3",
   "version": "3.5.2"
  }
 },
 "nbformat": 4,
 "nbformat_minor": 2
}
